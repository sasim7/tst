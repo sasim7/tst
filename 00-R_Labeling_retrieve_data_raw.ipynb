{
 "cells": [
  {
   "cell_type": "code",
   "execution_count": null,
   "metadata": {},
   "outputs": [],
   "source": [
    "library(hise)\n",
    "library(purrr)"
   ]
  },
  {
   "cell_type": "code",
   "execution_count": null,
   "metadata": {},
   "outputs": [],
   "source": [
    "listProjectFolders()"
   ]
  },
  {
   "cell_type": "code",
   "execution_count": null,
   "metadata": {},
   "outputs": [],
   "source": [
    "proj_files <- listFilesInProjectFolders(list(\"PedvsSenior\"))"
   ]
  },
  {
   "cell_type": "code",
   "execution_count": null,
   "metadata": {},
   "outputs": [],
   "source": [
    "proj_file_df <- map_dfr(proj_files$files, unlist)"
   ]
  },
  {
   "cell_type": "code",
   "execution_count": null,
   "metadata": {},
   "outputs": [],
   "source": [
    "proj_file_df"
   ]
  },
  {
   "cell_type": "code",
   "execution_count": null,
   "metadata": {},
   "outputs": [],
   "source": [
    "h5_file_df <- proj_file_df[grepl(\"h5$\", proj_file_df$name),]"
   ]
  },
  {
   "cell_type": "code",
   "execution_count": null,
   "metadata": {},
   "outputs": [],
   "source": [
    "h5_dir <- \"ped_vs_senior_h5\"\n",
    "dir.create(h5_dir)"
   ]
  },
  {
   "cell_type": "code",
   "execution_count": null,
   "metadata": {},
   "outputs": [],
   "source": [
    "walk(\n",
    "    h5_file_df$name,\n",
    "    function(file_name) {\n",
    "        base_name <- basename(file_name)\n",
    "        dir_name <- sub(\"/.+\",\"\",file_name)\n",
    "        \n",
    "        downloadFileFromProjectFolder(\n",
    "            folderName = \"PedvsSenior\",\n",
    "            fileName = file_name\n",
    "        )\n",
    "        \n",
    "        file.rename(file_name, file.path(h5_dir, base_name))\n",
    "        file.remove(dir_name)\n",
    "    }\n",
    ")"
   ]
  },
  {
   "cell_type": "code",
   "execution_count": null,
   "metadata": {},
   "outputs": [],
   "source": [
    "list.files(h5_dir)"
   ]
  },
  {
   "cell_type": "code",
   "execution_count": null,
   "metadata": {},
   "outputs": [],
   "source": [
    "arrow_file_df <- proj_file_df[grepl(\"arrow$\",proj_file_df$name),]"
   ]
  },
  {
   "cell_type": "code",
   "execution_count": null,
   "metadata": {},
   "outputs": [],
   "source": [
    "arrow_dir <- \"ped_vs_senior_arrow\"\n",
    "dir.create(arrow_dir)"
   ]
  },
  {
   "cell_type": "code",
   "execution_count": null,
   "metadata": {},
   "outputs": [],
   "source": [
    "walk(\n",
    "    arrow_file_df$name,\n",
    "    function(file_name) {\n",
    "        base_name <- basename(file_name)\n",
    "        dir_name <- sub(\"/.+\",\"\",file_name)\n",
    "        \n",
    "        downloadFileFromProjectFolder(\n",
    "            folderName = \"PedvsSenior\",\n",
    "            fileName = file_name\n",
    "        )\n",
    "        \n",
    "        file.rename(file_name, file.path(arrow_dir, base_name))\n",
    "        file.remove(dir_name)\n",
    "    }\n",
    ")"
   ]
  },
  {
   "cell_type": "code",
   "execution_count": null,
   "metadata": {},
   "outputs": [],
   "source": [
    "list.files(arrow_dir)"
   ]
  },
  {
   "cell_type": "code",
   "execution_count": null,
   "metadata": {},
   "outputs": [],
   "source": [
    "hise::downloadFileFromProjectFolder(folderName='PedvsSenior', \n",
    "                                     fileName='AIFI-2022-03-02T18:18:02.815803237Z/sp_merge_gating_celltype.rds')"
   ]
  },
  {
   "cell_type": "code",
   "execution_count": null,
   "metadata": {},
   "outputs": [],
   "source": [
    "sessionInfo()"
   ]
  }
 ],
 "metadata": {
  "kernelspec": {
   "display_name": "R 4",
   "language": "R",
   "name": "ir"
  },
  "language_info": {
   "codemirror_mode": "r",
   "file_extension": ".r",
   "mimetype": "text/x-r-source",
   "name": "R",
   "pygments_lexer": "r",
   "version": "4.1.2"
  }
 },
 "nbformat": 4,
 "nbformat_minor": 4
}
