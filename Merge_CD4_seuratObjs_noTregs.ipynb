{
 "cells": [
  {
   "cell_type": "code",
   "execution_count": 1,
   "metadata": {},
   "outputs": [],
   "source": [
    "up2_files <- hise::listFilesInProjectFolders(foldersToList = list(\"up2_prelim\"))\n",
    "up2_files_df <- dplyr::bind_rows(lapply(up2_files$files,function(x){as.data.frame(as.list(unlist(x)))}))\n",
    "\n"
   ]
  },
  {
   "cell_type": "code",
   "execution_count": 2,
   "metadata": {},
   "outputs": [
    {
     "data": {
      "text/html": [
       "<style>\n",
       ".list-inline {list-style: none; margin:0; padding: 0}\n",
       ".list-inline>li {display: inline-block}\n",
       ".list-inline>li:not(:last-child)::after {content: \"\\00b7\"; padding: 0 .5ex}\n",
       "</style>\n",
       "<ol class=list-inline><li>'AIFI-2021-07-29T01:56:08.639835162Z/up2br2_samples_labeling-groups.csv'</li><li>'AIFI-2021-08-04T19:37:57.568676202Z/UP2BR2_SampleSelection_20210804.csv'</li><li>'AIFI-2021-08-09T14:18:48.566247655Z/up2br2_labels_grouped_20210804.csv'</li><li>'AIFI-2021-08-09T16:00:17.01008455Z/control_so.Rds'</li><li>'AIFI-2021-08-23T16:42:41.452457396Z/complete_20210820/seuratobject_log.txt'</li><li>'AIFI-2021-08-23T16:42:43.029023979Z/complete_20210820/seuratobject_log_save.txt'</li><li>'AIFI-2021-08-23T16:42:46.663578723Z/complete_20210820/complete_so_ASDC.Rds'</li><li>'AIFI-2021-08-23T16:42:48.039511827Z/complete_20210820/complete_so_CD8 Proliferating.Rds'</li><li>'AIFI-2021-08-23T16:43:11.278987091Z/complete_20210820/complete_so_ILC.Rds'</li><li>'AIFI-2021-08-23T16:43:18.697138967Z/complete_20210820/complete_so_CD4 Proliferating.Rds'</li><li>'AIFI-2021-08-23T16:43:20.783075993Z/complete_20210820/complete_so_Doublet.Rds'</li><li>'AIFI-2021-08-23T16:43:22.447989527Z/complete_20210820/complete_so_cDC1.Rds'</li><li>'AIFI-2021-08-23T16:43:45.740157758Z/complete_20210820/complete_so_HSPC.Rds'</li><li>'AIFI-2021-08-23T16:43:52.895854039Z/complete_20210820/complete_so_dnT.Rds'</li><li>'AIFI-2021-08-23T16:44:05.143177795Z/complete_20210820/complete_so_Eryth.Rds'</li><li>'AIFI-2021-08-23T16:44:08.037546129Z/complete_20210820/complete_so_NK Proliferating.Rds'</li><li>'AIFI-2021-08-23T16:44:09.515687034Z/complete_20210820/complete_so_Plasmablast.Rds'</li><li>'AIFI-2021-08-23T16:45:38.815087792Z/complete_20210820/complete_so_pDC.Rds'</li><li>'AIFI-2021-08-23T16:45:52.741393291Z/complete_20210820/complete_so_Treg Naive.Rds'</li><li>'AIFI-2021-08-23T16:46:05.119110761Z/complete_20210820/complete_so_Platelet.Rds'</li><li>'AIFI-2021-08-23T16:46:08.286158589Z/complete_20210820/complete_so_NK_CD56bright.Rds'</li><li>'AIFI-2021-08-23T16:48:57.445426381Z/complete_20210820/complete_so_CD4 CTL.Rds'</li><li>'AIFI-2021-08-23T16:49:13.686016678Z/complete_20210820/complete_so_B memory.Rds'</li><li>'AIFI-2021-08-23T16:49:22.095466905Z/complete_20210820/complete_so_CD8 TCM.Rds'</li><li>'AIFI-2021-08-23T16:49:48.495951562Z/complete_20210820/complete_so_cDC2.Rds'</li><li>'AIFI-2021-08-23T16:49:54.055867018Z/complete_20210820/complete_so_MAIT.Rds'</li><li>'AIFI-2021-08-23T16:50:05.258789738Z/complete_20210820/complete_so_Treg Memory.Rds'</li><li>'AIFI-2021-08-23T16:50:30.149173015Z/complete_20210820/complete_so_gdT.Rds'</li><li>'AIFI-2021-08-23T16:52:16.378905778Z/complete_20210820/complete_so_CD8 Naive.Rds'</li><li>'AIFI-2021-08-23T16:52:59.376737867Z/complete_20210820/complete_so_B intermediate.Rds'</li><li>'AIFI-2021-08-23T16:57:35.218205098Z/complete_20210820/complete_so_CD8 TEMRA.Rds'</li><li>'AIFI-2021-08-23T16:58:06.657041064Z/complete_20210820/complete_so_CD16 Mono.Rds'</li><li>'AIFI-2021-08-23T16:59:51.888851869Z/complete_20210820/complete_so_B naive.Rds'</li><li>'AIFI-2021-08-23T17:02:17.23397115Z/complete_20210820/complete_so_CD8 TEM.Rds'</li><li>'AIFI-2021-08-23T17:04:17.084986273Z/complete_20210820/complete_so_NK.Rds'</li><li>'AIFI-2021-08-23T17:05:20.561421647Z/complete_20210820/complete_so_CD4 Naive.Rds'</li><li>'AIFI-2021-08-24T22:48:38.157717991Z/complete_20210820/seuratobject_log.txt'</li><li>'AIFI-2021-08-24T22:52:45.561214846Z/complete_20210820/complete_so_CD4 TCM.Rds'</li><li>'AIFI-2021-08-24T22:53:44.91946067Z/complete_20210820/complete_so_CD14 Mono.Rds'</li><li>'AIFI-2021-09-01T22:35:07.475867533Z/UP2BR2_all-cell-meta_20210804-sample-selection.csv.gz'</li><li>'AIFI-2021-09-02T00:07:37.930074429Z/complete_20210820/complete_so_CD4 TEM.Rds'</li><li>'AIFI-2021-09-02T01:24:08.503040592Z/DEG_D0_ByCelltypeL2.5.csv'</li></ol>\n"
      ],
      "text/latex": [
       "\\begin{enumerate*}\n",
       "\\item 'AIFI-2021-07-29T01:56:08.639835162Z/up2br2\\_samples\\_labeling-groups.csv'\n",
       "\\item 'AIFI-2021-08-04T19:37:57.568676202Z/UP2BR2\\_SampleSelection\\_20210804.csv'\n",
       "\\item 'AIFI-2021-08-09T14:18:48.566247655Z/up2br2\\_labels\\_grouped\\_20210804.csv'\n",
       "\\item 'AIFI-2021-08-09T16:00:17.01008455Z/control\\_so.Rds'\n",
       "\\item 'AIFI-2021-08-23T16:42:41.452457396Z/complete\\_20210820/seuratobject\\_log.txt'\n",
       "\\item 'AIFI-2021-08-23T16:42:43.029023979Z/complete\\_20210820/seuratobject\\_log\\_save.txt'\n",
       "\\item 'AIFI-2021-08-23T16:42:46.663578723Z/complete\\_20210820/complete\\_so\\_ASDC.Rds'\n",
       "\\item 'AIFI-2021-08-23T16:42:48.039511827Z/complete\\_20210820/complete\\_so\\_CD8 Proliferating.Rds'\n",
       "\\item 'AIFI-2021-08-23T16:43:11.278987091Z/complete\\_20210820/complete\\_so\\_ILC.Rds'\n",
       "\\item 'AIFI-2021-08-23T16:43:18.697138967Z/complete\\_20210820/complete\\_so\\_CD4 Proliferating.Rds'\n",
       "\\item 'AIFI-2021-08-23T16:43:20.783075993Z/complete\\_20210820/complete\\_so\\_Doublet.Rds'\n",
       "\\item 'AIFI-2021-08-23T16:43:22.447989527Z/complete\\_20210820/complete\\_so\\_cDC1.Rds'\n",
       "\\item 'AIFI-2021-08-23T16:43:45.740157758Z/complete\\_20210820/complete\\_so\\_HSPC.Rds'\n",
       "\\item 'AIFI-2021-08-23T16:43:52.895854039Z/complete\\_20210820/complete\\_so\\_dnT.Rds'\n",
       "\\item 'AIFI-2021-08-23T16:44:05.143177795Z/complete\\_20210820/complete\\_so\\_Eryth.Rds'\n",
       "\\item 'AIFI-2021-08-23T16:44:08.037546129Z/complete\\_20210820/complete\\_so\\_NK Proliferating.Rds'\n",
       "\\item 'AIFI-2021-08-23T16:44:09.515687034Z/complete\\_20210820/complete\\_so\\_Plasmablast.Rds'\n",
       "\\item 'AIFI-2021-08-23T16:45:38.815087792Z/complete\\_20210820/complete\\_so\\_pDC.Rds'\n",
       "\\item 'AIFI-2021-08-23T16:45:52.741393291Z/complete\\_20210820/complete\\_so\\_Treg Naive.Rds'\n",
       "\\item 'AIFI-2021-08-23T16:46:05.119110761Z/complete\\_20210820/complete\\_so\\_Platelet.Rds'\n",
       "\\item 'AIFI-2021-08-23T16:46:08.286158589Z/complete\\_20210820/complete\\_so\\_NK\\_CD56bright.Rds'\n",
       "\\item 'AIFI-2021-08-23T16:48:57.445426381Z/complete\\_20210820/complete\\_so\\_CD4 CTL.Rds'\n",
       "\\item 'AIFI-2021-08-23T16:49:13.686016678Z/complete\\_20210820/complete\\_so\\_B memory.Rds'\n",
       "\\item 'AIFI-2021-08-23T16:49:22.095466905Z/complete\\_20210820/complete\\_so\\_CD8 TCM.Rds'\n",
       "\\item 'AIFI-2021-08-23T16:49:48.495951562Z/complete\\_20210820/complete\\_so\\_cDC2.Rds'\n",
       "\\item 'AIFI-2021-08-23T16:49:54.055867018Z/complete\\_20210820/complete\\_so\\_MAIT.Rds'\n",
       "\\item 'AIFI-2021-08-23T16:50:05.258789738Z/complete\\_20210820/complete\\_so\\_Treg Memory.Rds'\n",
       "\\item 'AIFI-2021-08-23T16:50:30.149173015Z/complete\\_20210820/complete\\_so\\_gdT.Rds'\n",
       "\\item 'AIFI-2021-08-23T16:52:16.378905778Z/complete\\_20210820/complete\\_so\\_CD8 Naive.Rds'\n",
       "\\item 'AIFI-2021-08-23T16:52:59.376737867Z/complete\\_20210820/complete\\_so\\_B intermediate.Rds'\n",
       "\\item 'AIFI-2021-08-23T16:57:35.218205098Z/complete\\_20210820/complete\\_so\\_CD8 TEMRA.Rds'\n",
       "\\item 'AIFI-2021-08-23T16:58:06.657041064Z/complete\\_20210820/complete\\_so\\_CD16 Mono.Rds'\n",
       "\\item 'AIFI-2021-08-23T16:59:51.888851869Z/complete\\_20210820/complete\\_so\\_B naive.Rds'\n",
       "\\item 'AIFI-2021-08-23T17:02:17.23397115Z/complete\\_20210820/complete\\_so\\_CD8 TEM.Rds'\n",
       "\\item 'AIFI-2021-08-23T17:04:17.084986273Z/complete\\_20210820/complete\\_so\\_NK.Rds'\n",
       "\\item 'AIFI-2021-08-23T17:05:20.561421647Z/complete\\_20210820/complete\\_so\\_CD4 Naive.Rds'\n",
       "\\item 'AIFI-2021-08-24T22:48:38.157717991Z/complete\\_20210820/seuratobject\\_log.txt'\n",
       "\\item 'AIFI-2021-08-24T22:52:45.561214846Z/complete\\_20210820/complete\\_so\\_CD4 TCM.Rds'\n",
       "\\item 'AIFI-2021-08-24T22:53:44.91946067Z/complete\\_20210820/complete\\_so\\_CD14 Mono.Rds'\n",
       "\\item 'AIFI-2021-09-01T22:35:07.475867533Z/UP2BR2\\_all-cell-meta\\_20210804-sample-selection.csv.gz'\n",
       "\\item 'AIFI-2021-09-02T00:07:37.930074429Z/complete\\_20210820/complete\\_so\\_CD4 TEM.Rds'\n",
       "\\item 'AIFI-2021-09-02T01:24:08.503040592Z/DEG\\_D0\\_ByCelltypeL2.5.csv'\n",
       "\\end{enumerate*}\n"
      ],
      "text/markdown": [
       "1. 'AIFI-2021-07-29T01:56:08.639835162Z/up2br2_samples_labeling-groups.csv'\n",
       "2. 'AIFI-2021-08-04T19:37:57.568676202Z/UP2BR2_SampleSelection_20210804.csv'\n",
       "3. 'AIFI-2021-08-09T14:18:48.566247655Z/up2br2_labels_grouped_20210804.csv'\n",
       "4. 'AIFI-2021-08-09T16:00:17.01008455Z/control_so.Rds'\n",
       "5. 'AIFI-2021-08-23T16:42:41.452457396Z/complete_20210820/seuratobject_log.txt'\n",
       "6. 'AIFI-2021-08-23T16:42:43.029023979Z/complete_20210820/seuratobject_log_save.txt'\n",
       "7. 'AIFI-2021-08-23T16:42:46.663578723Z/complete_20210820/complete_so_ASDC.Rds'\n",
       "8. 'AIFI-2021-08-23T16:42:48.039511827Z/complete_20210820/complete_so_CD8 Proliferating.Rds'\n",
       "9. 'AIFI-2021-08-23T16:43:11.278987091Z/complete_20210820/complete_so_ILC.Rds'\n",
       "10. 'AIFI-2021-08-23T16:43:18.697138967Z/complete_20210820/complete_so_CD4 Proliferating.Rds'\n",
       "11. 'AIFI-2021-08-23T16:43:20.783075993Z/complete_20210820/complete_so_Doublet.Rds'\n",
       "12. 'AIFI-2021-08-23T16:43:22.447989527Z/complete_20210820/complete_so_cDC1.Rds'\n",
       "13. 'AIFI-2021-08-23T16:43:45.740157758Z/complete_20210820/complete_so_HSPC.Rds'\n",
       "14. 'AIFI-2021-08-23T16:43:52.895854039Z/complete_20210820/complete_so_dnT.Rds'\n",
       "15. 'AIFI-2021-08-23T16:44:05.143177795Z/complete_20210820/complete_so_Eryth.Rds'\n",
       "16. 'AIFI-2021-08-23T16:44:08.037546129Z/complete_20210820/complete_so_NK Proliferating.Rds'\n",
       "17. 'AIFI-2021-08-23T16:44:09.515687034Z/complete_20210820/complete_so_Plasmablast.Rds'\n",
       "18. 'AIFI-2021-08-23T16:45:38.815087792Z/complete_20210820/complete_so_pDC.Rds'\n",
       "19. 'AIFI-2021-08-23T16:45:52.741393291Z/complete_20210820/complete_so_Treg Naive.Rds'\n",
       "20. 'AIFI-2021-08-23T16:46:05.119110761Z/complete_20210820/complete_so_Platelet.Rds'\n",
       "21. 'AIFI-2021-08-23T16:46:08.286158589Z/complete_20210820/complete_so_NK_CD56bright.Rds'\n",
       "22. 'AIFI-2021-08-23T16:48:57.445426381Z/complete_20210820/complete_so_CD4 CTL.Rds'\n",
       "23. 'AIFI-2021-08-23T16:49:13.686016678Z/complete_20210820/complete_so_B memory.Rds'\n",
       "24. 'AIFI-2021-08-23T16:49:22.095466905Z/complete_20210820/complete_so_CD8 TCM.Rds'\n",
       "25. 'AIFI-2021-08-23T16:49:48.495951562Z/complete_20210820/complete_so_cDC2.Rds'\n",
       "26. 'AIFI-2021-08-23T16:49:54.055867018Z/complete_20210820/complete_so_MAIT.Rds'\n",
       "27. 'AIFI-2021-08-23T16:50:05.258789738Z/complete_20210820/complete_so_Treg Memory.Rds'\n",
       "28. 'AIFI-2021-08-23T16:50:30.149173015Z/complete_20210820/complete_so_gdT.Rds'\n",
       "29. 'AIFI-2021-08-23T16:52:16.378905778Z/complete_20210820/complete_so_CD8 Naive.Rds'\n",
       "30. 'AIFI-2021-08-23T16:52:59.376737867Z/complete_20210820/complete_so_B intermediate.Rds'\n",
       "31. 'AIFI-2021-08-23T16:57:35.218205098Z/complete_20210820/complete_so_CD8 TEMRA.Rds'\n",
       "32. 'AIFI-2021-08-23T16:58:06.657041064Z/complete_20210820/complete_so_CD16 Mono.Rds'\n",
       "33. 'AIFI-2021-08-23T16:59:51.888851869Z/complete_20210820/complete_so_B naive.Rds'\n",
       "34. 'AIFI-2021-08-23T17:02:17.23397115Z/complete_20210820/complete_so_CD8 TEM.Rds'\n",
       "35. 'AIFI-2021-08-23T17:04:17.084986273Z/complete_20210820/complete_so_NK.Rds'\n",
       "36. 'AIFI-2021-08-23T17:05:20.561421647Z/complete_20210820/complete_so_CD4 Naive.Rds'\n",
       "37. 'AIFI-2021-08-24T22:48:38.157717991Z/complete_20210820/seuratobject_log.txt'\n",
       "38. 'AIFI-2021-08-24T22:52:45.561214846Z/complete_20210820/complete_so_CD4 TCM.Rds'\n",
       "39. 'AIFI-2021-08-24T22:53:44.91946067Z/complete_20210820/complete_so_CD14 Mono.Rds'\n",
       "40. 'AIFI-2021-09-01T22:35:07.475867533Z/UP2BR2_all-cell-meta_20210804-sample-selection.csv.gz'\n",
       "41. 'AIFI-2021-09-02T00:07:37.930074429Z/complete_20210820/complete_so_CD4 TEM.Rds'\n",
       "42. 'AIFI-2021-09-02T01:24:08.503040592Z/DEG_D0_ByCelltypeL2.5.csv'\n",
       "\n",
       "\n"
      ],
      "text/plain": [
       " [1] \"AIFI-2021-07-29T01:56:08.639835162Z/up2br2_samples_labeling-groups.csv\"                   \n",
       " [2] \"AIFI-2021-08-04T19:37:57.568676202Z/UP2BR2_SampleSelection_20210804.csv\"                  \n",
       " [3] \"AIFI-2021-08-09T14:18:48.566247655Z/up2br2_labels_grouped_20210804.csv\"                   \n",
       " [4] \"AIFI-2021-08-09T16:00:17.01008455Z/control_so.Rds\"                                        \n",
       " [5] \"AIFI-2021-08-23T16:42:41.452457396Z/complete_20210820/seuratobject_log.txt\"               \n",
       " [6] \"AIFI-2021-08-23T16:42:43.029023979Z/complete_20210820/seuratobject_log_save.txt\"          \n",
       " [7] \"AIFI-2021-08-23T16:42:46.663578723Z/complete_20210820/complete_so_ASDC.Rds\"               \n",
       " [8] \"AIFI-2021-08-23T16:42:48.039511827Z/complete_20210820/complete_so_CD8 Proliferating.Rds\"  \n",
       " [9] \"AIFI-2021-08-23T16:43:11.278987091Z/complete_20210820/complete_so_ILC.Rds\"                \n",
       "[10] \"AIFI-2021-08-23T16:43:18.697138967Z/complete_20210820/complete_so_CD4 Proliferating.Rds\"  \n",
       "[11] \"AIFI-2021-08-23T16:43:20.783075993Z/complete_20210820/complete_so_Doublet.Rds\"            \n",
       "[12] \"AIFI-2021-08-23T16:43:22.447989527Z/complete_20210820/complete_so_cDC1.Rds\"               \n",
       "[13] \"AIFI-2021-08-23T16:43:45.740157758Z/complete_20210820/complete_so_HSPC.Rds\"               \n",
       "[14] \"AIFI-2021-08-23T16:43:52.895854039Z/complete_20210820/complete_so_dnT.Rds\"                \n",
       "[15] \"AIFI-2021-08-23T16:44:05.143177795Z/complete_20210820/complete_so_Eryth.Rds\"              \n",
       "[16] \"AIFI-2021-08-23T16:44:08.037546129Z/complete_20210820/complete_so_NK Proliferating.Rds\"   \n",
       "[17] \"AIFI-2021-08-23T16:44:09.515687034Z/complete_20210820/complete_so_Plasmablast.Rds\"        \n",
       "[18] \"AIFI-2021-08-23T16:45:38.815087792Z/complete_20210820/complete_so_pDC.Rds\"                \n",
       "[19] \"AIFI-2021-08-23T16:45:52.741393291Z/complete_20210820/complete_so_Treg Naive.Rds\"         \n",
       "[20] \"AIFI-2021-08-23T16:46:05.119110761Z/complete_20210820/complete_so_Platelet.Rds\"           \n",
       "[21] \"AIFI-2021-08-23T16:46:08.286158589Z/complete_20210820/complete_so_NK_CD56bright.Rds\"      \n",
       "[22] \"AIFI-2021-08-23T16:48:57.445426381Z/complete_20210820/complete_so_CD4 CTL.Rds\"            \n",
       "[23] \"AIFI-2021-08-23T16:49:13.686016678Z/complete_20210820/complete_so_B memory.Rds\"           \n",
       "[24] \"AIFI-2021-08-23T16:49:22.095466905Z/complete_20210820/complete_so_CD8 TCM.Rds\"            \n",
       "[25] \"AIFI-2021-08-23T16:49:48.495951562Z/complete_20210820/complete_so_cDC2.Rds\"               \n",
       "[26] \"AIFI-2021-08-23T16:49:54.055867018Z/complete_20210820/complete_so_MAIT.Rds\"               \n",
       "[27] \"AIFI-2021-08-23T16:50:05.258789738Z/complete_20210820/complete_so_Treg Memory.Rds\"        \n",
       "[28] \"AIFI-2021-08-23T16:50:30.149173015Z/complete_20210820/complete_so_gdT.Rds\"                \n",
       "[29] \"AIFI-2021-08-23T16:52:16.378905778Z/complete_20210820/complete_so_CD8 Naive.Rds\"          \n",
       "[30] \"AIFI-2021-08-23T16:52:59.376737867Z/complete_20210820/complete_so_B intermediate.Rds\"     \n",
       "[31] \"AIFI-2021-08-23T16:57:35.218205098Z/complete_20210820/complete_so_CD8 TEMRA.Rds\"          \n",
       "[32] \"AIFI-2021-08-23T16:58:06.657041064Z/complete_20210820/complete_so_CD16 Mono.Rds\"          \n",
       "[33] \"AIFI-2021-08-23T16:59:51.888851869Z/complete_20210820/complete_so_B naive.Rds\"            \n",
       "[34] \"AIFI-2021-08-23T17:02:17.23397115Z/complete_20210820/complete_so_CD8 TEM.Rds\"             \n",
       "[35] \"AIFI-2021-08-23T17:04:17.084986273Z/complete_20210820/complete_so_NK.Rds\"                 \n",
       "[36] \"AIFI-2021-08-23T17:05:20.561421647Z/complete_20210820/complete_so_CD4 Naive.Rds\"          \n",
       "[37] \"AIFI-2021-08-24T22:48:38.157717991Z/complete_20210820/seuratobject_log.txt\"               \n",
       "[38] \"AIFI-2021-08-24T22:52:45.561214846Z/complete_20210820/complete_so_CD4 TCM.Rds\"            \n",
       "[39] \"AIFI-2021-08-24T22:53:44.91946067Z/complete_20210820/complete_so_CD14 Mono.Rds\"           \n",
       "[40] \"AIFI-2021-09-01T22:35:07.475867533Z/UP2BR2_all-cell-meta_20210804-sample-selection.csv.gz\"\n",
       "[41] \"AIFI-2021-09-02T00:07:37.930074429Z/complete_20210820/complete_so_CD4 TEM.Rds\"            \n",
       "[42] \"AIFI-2021-09-02T01:24:08.503040592Z/DEG_D0_ByCelltypeL2.5.csv\"                            "
      ]
     },
     "metadata": {},
     "output_type": "display_data"
    }
   ],
   "source": [
    "up2_files_df$name"
   ]
  },
  {
   "cell_type": "code",
   "execution_count": 3,
   "metadata": {},
   "outputs": [
    {
     "data": {
      "text/html": [
       "<style>\n",
       ".list-inline {list-style: none; margin:0; padding: 0}\n",
       ".list-inline>li {display: inline-block}\n",
       ".list-inline>li:not(:last-child)::after {content: \"\\00b7\"; padding: 0 .5ex}\n",
       "</style>\n",
       "<ol class=list-inline><li>'AIFI-2021-08-23T16:43:18.697138967Z/complete_20210820/complete_so_CD4 Proliferating.Rds'</li><li>'AIFI-2021-08-23T16:48:57.445426381Z/complete_20210820/complete_so_CD4 CTL.Rds'</li><li>'AIFI-2021-08-23T17:05:20.561421647Z/complete_20210820/complete_so_CD4 Naive.Rds'</li><li>'AIFI-2021-08-24T22:52:45.561214846Z/complete_20210820/complete_so_CD4 TCM.Rds'</li><li>'AIFI-2021-09-02T00:07:37.930074429Z/complete_20210820/complete_so_CD4 TEM.Rds'</li></ol>\n"
      ],
      "text/latex": [
       "\\begin{enumerate*}\n",
       "\\item 'AIFI-2021-08-23T16:43:18.697138967Z/complete\\_20210820/complete\\_so\\_CD4 Proliferating.Rds'\n",
       "\\item 'AIFI-2021-08-23T16:48:57.445426381Z/complete\\_20210820/complete\\_so\\_CD4 CTL.Rds'\n",
       "\\item 'AIFI-2021-08-23T17:05:20.561421647Z/complete\\_20210820/complete\\_so\\_CD4 Naive.Rds'\n",
       "\\item 'AIFI-2021-08-24T22:52:45.561214846Z/complete\\_20210820/complete\\_so\\_CD4 TCM.Rds'\n",
       "\\item 'AIFI-2021-09-02T00:07:37.930074429Z/complete\\_20210820/complete\\_so\\_CD4 TEM.Rds'\n",
       "\\end{enumerate*}\n"
      ],
      "text/markdown": [
       "1. 'AIFI-2021-08-23T16:43:18.697138967Z/complete_20210820/complete_so_CD4 Proliferating.Rds'\n",
       "2. 'AIFI-2021-08-23T16:48:57.445426381Z/complete_20210820/complete_so_CD4 CTL.Rds'\n",
       "3. 'AIFI-2021-08-23T17:05:20.561421647Z/complete_20210820/complete_so_CD4 Naive.Rds'\n",
       "4. 'AIFI-2021-08-24T22:52:45.561214846Z/complete_20210820/complete_so_CD4 TCM.Rds'\n",
       "5. 'AIFI-2021-09-02T00:07:37.930074429Z/complete_20210820/complete_so_CD4 TEM.Rds'\n",
       "\n",
       "\n"
      ],
      "text/plain": [
       "[1] \"AIFI-2021-08-23T16:43:18.697138967Z/complete_20210820/complete_so_CD4 Proliferating.Rds\"\n",
       "[2] \"AIFI-2021-08-23T16:48:57.445426381Z/complete_20210820/complete_so_CD4 CTL.Rds\"          \n",
       "[3] \"AIFI-2021-08-23T17:05:20.561421647Z/complete_20210820/complete_so_CD4 Naive.Rds\"        \n",
       "[4] \"AIFI-2021-08-24T22:52:45.561214846Z/complete_20210820/complete_so_CD4 TCM.Rds\"          \n",
       "[5] \"AIFI-2021-09-02T00:07:37.930074429Z/complete_20210820/complete_so_CD4 TEM.Rds\"          "
      ]
     },
     "metadata": {},
     "output_type": "display_data"
    },
    {
     "ename": "ERROR",
     "evalue": "Error: cannot allocate vector of size 4.5 Gb\n",
     "output_type": "error",
     "traceback": [
      "Error: cannot allocate vector of size 4.5 Gb\nTraceback:\n",
      "1. readRDS(cd4_so_files[3])"
     ]
    }
   ],
   "source": [
    "cd4_so_files <- grep(\"complete_20210820/.*complete_so_CD4.*.Rds\", up2_files_df$name, value = TRUE)\n",
    "cd4_so_files\n",
    "cd4_prolif_so=readRDS(cd4_so_files[1])\n",
    "cd4_ctl_so=readRDS(cd4_so_files[2])\n",
    "cd4_naive_so=readRDS(cd4_so_files[3])\n",
    "cd4_tcm_so=readRDS(cd4_so_files[4])\n",
    "cd4_tem_so=readRDS(cd4_so_files[5])\n",
    "\n"
   ]
  },
  {
   "cell_type": "code",
   "execution_count": null,
   "metadata": {},
   "outputs": [],
   "source": [
    "merged_cd4_noTreg_so=Seurat::merge(cd4_prolif_so, y = c(cd4_ctl_so, cd4_naive_so,cd4_tcm_so,cd4_tem_so), project = \"UP2_CD4notreg\")\n",
    "saveRDS(merged_cd4_noTreg_so,file='merged_cd4_noTreg_so.rds')\n",
    "\n"
   ]
  }
 ],
 "metadata": {
  "kernelspec": {
   "display_name": "R 4",
   "language": "R",
   "name": "ir4"
  },
  "language_info": {
   "codemirror_mode": "r",
   "file_extension": ".r",
   "mimetype": "text/x-r-source",
   "name": "R",
   "pygments_lexer": "r",
   "version": "4.0.5"
  }
 },
 "nbformat": 4,
 "nbformat_minor": 4
}
