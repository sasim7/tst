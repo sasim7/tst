{
 "cells": [
  {
   "cell_type": "markdown",
   "metadata": {},
   "source": [
    "# PedSen Initial ArchR Setup"
   ]
  },
  {
   "cell_type": "code",
   "execution_count": 1,
   "metadata": {},
   "outputs": [],
   "source": [
    "quiet_library <- function(...) { suppressPackageStartupMessages(library(...)) }\n",
    "quiet_library(ArchR)\n",
    "quiet_library(hise)\n",
    "quiet_library(Seurat)\n",
    "quiet_library(ggplot2)\n",
    "quiet_library(Matrix)\n",
    "quiet_library(H5weaver)\n",
    "quiet_library(dplyr)\n",
    "quiet_library(viridis)\n",
    "quiet_library(harmony)\n",
    "quiet_library(Nebulosa)\n",
    "quiet_library(stringr)"
   ]
  },
  {
   "cell_type": "code",
   "execution_count": 2,
   "metadata": {},
   "outputs": [
    {
     "name": "stderr",
     "output_type": "stream",
     "text": [
      "Setting default number of Parallel threads to 32.\n",
      "\n",
      "Setting default genome to Hg38.\n",
      "\n"
     ]
    }
   ],
   "source": [
    "addArchRThreads(32)\n",
    "addArchRGenome(\"hg38\")"
   ]
  },
  {
   "cell_type": "markdown",
   "metadata": {},
   "source": [
    "# Setup"
   ]
  },
  {
   "cell_type": "code",
   "execution_count": 3,
   "metadata": {},
   "outputs": [],
   "source": [
    "ped_arrows <- c('/home/jupyter/ped_vs_senior_arrow/B076-P1_PB00124-02.arrow',\n",
    "                '/home/jupyter/ped_vs_senior_arrow/B069-P1_PB00172-02.arrow',\n",
    "                '/home/jupyter/ped_vs_senior_arrow/B069-P1_PB00182-02.arrow',\n",
    "                '/home/jupyter/ped_vs_senior_arrow/B076-P1_PB00127-02.arrow',\n",
    "                '/home/jupyter/ped_vs_senior_arrow/B069-P1_PB00807-02.arrow',\n",
    "                '/home/jupyter/ped_vs_senior_arrow/B065-P1_PB00173-02.arrow',\n",
    "                '/home/jupyter/ped_vs_senior_arrow/B065-P1_PB00192-02.arrow',\n",
    "                '/home/jupyter/ped_vs_senior_arrow/B065-P1_PB00197-02.arrow')"
   ]
  },
  {
   "cell_type": "code",
   "execution_count": 4,
   "metadata": {},
   "outputs": [],
   "source": [
    "sen_arrows <- c('/home/jupyter/ped_vs_senior_arrow/B065-P1_PB00593-04.arrow',\n",
    "                '/home/jupyter/ped_vs_senior_arrow/B069-P1_PB00323-02.arrow',\n",
    "                '/home/jupyter/ped_vs_senior_arrow/B076-P1_PB00368-04.arrow',\n",
    "                '/home/jupyter/ped_vs_senior_arrow/B076-P1_PB00353-03.arrow',\n",
    "                '/home/jupyter/ped_vs_senior_arrow/B076-P1_PB00334-03.arrow',\n",
    "                '/home/jupyter/ped_vs_senior_arrow/B076-P1_PB00377-03.arrow',\n",
    "                '/home/jupyter/ped_vs_senior_arrow/B076-P1_PB00545-02.arrow',\n",
    "                '/home/jupyter/ped_vs_senior_arrow/B076-P1_PB00599-02.arrow')"
   ]
  },
  {
   "cell_type": "markdown",
   "metadata": {},
   "source": [
    "## Create ArchR Project"
   ]
  },
  {
   "cell_type": "code",
   "execution_count": 5,
   "metadata": {},
   "outputs": [
    {
     "name": "stderr",
     "output_type": "stream",
     "text": [
      "Using GeneAnnotation set by addArchRGenome(Hg38)!\n",
      "\n",
      "Using GeneAnnotation set by addArchRGenome(Hg38)!\n",
      "\n",
      "Validating Arrows...\n",
      "\n",
      "Getting SampleNames...\n",
      "\n",
      "\n",
      "\n",
      "Copying ArrowFiles to Ouptut Directory! If you want to save disk space set copyArrows = FALSE\n",
      "\n",
      "1 \n",
      "2 \n",
      "3 \n",
      "4 \n",
      "5 \n",
      "6 \n",
      "7 \n",
      "8 \n",
      "9 \n",
      "10 \n",
      "11 \n",
      "12 \n",
      "13 \n",
      "14 \n",
      "15 \n",
      "16 \n",
      "\n",
      "\n",
      "Getting Cell Metadata...\n",
      "\n",
      "\n",
      "\n",
      "Merging Cell Metadata...\n",
      "\n",
      "Initializing ArchRProject...\n",
      "\n",
      "\n",
      "                                                   / |\n",
      "                                                 /    \\\n",
      "            .                                  /      |.\n",
      "            \\\\\\                              /        |.\n",
      "              \\\\\\                          /           `|.\n",
      "                \\\\\\                      /              |.\n",
      "                  \\                    /                |\\\n",
      "                  \\\\#####\\           /                  ||\n",
      "                ==###########>      /                   ||\n",
      "                 \\\\##==......\\    /                     ||\n",
      "            ______ =       =|__ /__                     ||      \\\\\\\n",
      "        ,--' ,----`-,__ ___/'  --,-`-===================##========>\n",
      "       \\               '        ##_______ _____ ,--,__,=##,__   ///\n",
      "        ,    __==    ___,-,__,--'#'  ==='      `-'    | ##,-/\n",
      "        -,____,---'       \\\\####\\\\________________,--\\\\_##,/\n",
      "           ___      .______        ______  __    __  .______      \n",
      "          /   \\     |   _  \\      /      ||  |  |  | |   _  \\     \n",
      "         /  ^  \\    |  |_)  |    |  ,----'|  |__|  | |  |_)  |    \n",
      "        /  /_\\  \\   |      /     |  |     |   __   | |      /     \n",
      "       /  _____  \\  |  |\\  \\\\___ |  `----.|  |  |  | |  |\\  \\\\___.\n",
      "      /__/     \\__\\ | _| `._____| \\______||__|  |__| | _| `._____|\n",
      "    \n",
      "\n"
     ]
    }
   ],
   "source": [
    "proj <- ArchRProject(\n",
    "  ArrowFiles = c(ped_arrows, sen_arrows), \n",
    "  outputDirectory = \"PedSen_ATAC\",\n",
    "  copyArrows = TRUE #This is recommened so that if you modify the Arrow files you have an original copy for later usage.\n",
    ")"
   ]
  },
  {
   "cell_type": "code",
   "execution_count": 6,
   "metadata": {},
   "outputs": [
    {
     "name": "stderr",
     "output_type": "stream",
     "text": [
      "\n",
      "           ___      .______        ______  __    __  .______      \n",
      "          /   \\     |   _  \\      /      ||  |  |  | |   _  \\     \n",
      "         /  ^  \\    |  |_)  |    |  ,----'|  |__|  | |  |_)  |    \n",
      "        /  /_\\  \\   |      /     |  |     |   __   | |      /     \n",
      "       /  _____  \\  |  |\\  \\\\___ |  `----.|  |  |  | |  |\\  \\\\___.\n",
      "      /__/     \\__\\ | _| `._____| \\______||__|  |__| | _| `._____|\n",
      "    \n",
      "\n"
     ]
    },
    {
     "data": {
      "text/plain": [
       "class: ArchRProject \n",
       "outputDirectory: /home/jupyter/UPenn_Demo/PedSen_ATAC \n",
       "samples(16): B076-P1_PB00124-02 B069-P1_PB00172-02 ...\n",
       "  B076-P1_PB00545-02 B076-P1_PB00599-02\n",
       "sampleColData names(1): ArrowFiles\n",
       "cellColData names(13): Sample TSSEnrichment ... nDiFrags BlacklistRatio\n",
       "numberOfCells(1): 327662\n",
       "medianTSS(1): 25.344\n",
       "medianFrags(1): 6942"
      ]
     },
     "metadata": {},
     "output_type": "display_data"
    }
   ],
   "source": [
    "proj"
   ]
  },
  {
   "cell_type": "markdown",
   "metadata": {},
   "source": [
    "## Subset ArchR Project by barcodes from RNA+ADT object"
   ]
  },
  {
   "cell_type": "code",
   "execution_count": 7,
   "metadata": {},
   "outputs": [],
   "source": [
    "rna_adt_so <- readRDS(file = '/home/jupyter/UPenn_Demo/sp_merge_gating_celltype.rds')"
   ]
  },
  {
   "cell_type": "code",
   "execution_count": 8,
   "metadata": {},
   "outputs": [
    {
     "data": {
      "text/html": [
       "<style>\n",
       ".list-inline {list-style: none; margin:0; padding: 0}\n",
       ".list-inline>li {display: inline-block}\n",
       ".list-inline>li:not(:last-child)::after {content: \"\\00b7\"; padding: 0 .5ex}\n",
       "</style>\n",
       "<ol class=list-inline><li>'B076-P1_PB00124-02#dcda7bf8e84e11eb939942010a19c839'</li><li>'B076-P1_PB00124-02#8ff31584e84e11ebac5942010a19c839'</li><li>'B076-P1_PB00124-02#13cd8d1ce84f11eb915942010a19c839'</li><li>'B076-P1_PB00124-02#a8a121c0e84e11eb8ae942010a19c839'</li><li>'B076-P1_PB00124-02#ab136800e84e11eb8ae942010a19c839'</li><li>'B076-P1_PB00124-02#e9c95406e84e11ebbb6c42010a19c839'</li></ol>\n"
      ],
      "text/latex": [
       "\\begin{enumerate*}\n",
       "\\item 'B076-P1\\_PB00124-02\\#dcda7bf8e84e11eb939942010a19c839'\n",
       "\\item 'B076-P1\\_PB00124-02\\#8ff31584e84e11ebac5942010a19c839'\n",
       "\\item 'B076-P1\\_PB00124-02\\#13cd8d1ce84f11eb915942010a19c839'\n",
       "\\item 'B076-P1\\_PB00124-02\\#a8a121c0e84e11eb8ae942010a19c839'\n",
       "\\item 'B076-P1\\_PB00124-02\\#ab136800e84e11eb8ae942010a19c839'\n",
       "\\item 'B076-P1\\_PB00124-02\\#e9c95406e84e11ebbb6c42010a19c839'\n",
       "\\end{enumerate*}\n"
      ],
      "text/markdown": [
       "1. 'B076-P1_PB00124-02#dcda7bf8e84e11eb939942010a19c839'\n",
       "2. 'B076-P1_PB00124-02#8ff31584e84e11ebac5942010a19c839'\n",
       "3. 'B076-P1_PB00124-02#13cd8d1ce84f11eb915942010a19c839'\n",
       "4. 'B076-P1_PB00124-02#a8a121c0e84e11eb8ae942010a19c839'\n",
       "5. 'B076-P1_PB00124-02#ab136800e84e11eb8ae942010a19c839'\n",
       "6. 'B076-P1_PB00124-02#e9c95406e84e11ebbb6c42010a19c839'\n",
       "\n",
       "\n"
      ],
      "text/plain": [
       "[1] \"B076-P1_PB00124-02#dcda7bf8e84e11eb939942010a19c839\"\n",
       "[2] \"B076-P1_PB00124-02#8ff31584e84e11ebac5942010a19c839\"\n",
       "[3] \"B076-P1_PB00124-02#13cd8d1ce84f11eb915942010a19c839\"\n",
       "[4] \"B076-P1_PB00124-02#a8a121c0e84e11eb8ae942010a19c839\"\n",
       "[5] \"B076-P1_PB00124-02#ab136800e84e11eb8ae942010a19c839\"\n",
       "[6] \"B076-P1_PB00124-02#e9c95406e84e11ebbb6c42010a19c839\""
      ]
     },
     "metadata": {},
     "output_type": "display_data"
    },
    {
     "data": {
      "text/html": [
       "<style>\n",
       ".list-inline {list-style: none; margin:0; padding: 0}\n",
       ".list-inline>li {display: inline-block}\n",
       ".list-inline>li:not(:last-child)::after {content: \"\\00b7\"; padding: 0 .5ex}\n",
       "</style>\n",
       "<ol class=list-inline><li>'dcda7bf8e84e11eb939942010a19c839'</li><li>'8ff31584e84e11ebac5942010a19c839'</li><li>'13cd8d1ce84f11eb915942010a19c839'</li><li>'a8a121c0e84e11eb8ae942010a19c839'</li><li>'ab136800e84e11eb8ae942010a19c839'</li><li>'e9c95406e84e11ebbb6c42010a19c839'</li></ol>\n"
      ],
      "text/latex": [
       "\\begin{enumerate*}\n",
       "\\item 'dcda7bf8e84e11eb939942010a19c839'\n",
       "\\item '8ff31584e84e11ebac5942010a19c839'\n",
       "\\item '13cd8d1ce84f11eb915942010a19c839'\n",
       "\\item 'a8a121c0e84e11eb8ae942010a19c839'\n",
       "\\item 'ab136800e84e11eb8ae942010a19c839'\n",
       "\\item 'e9c95406e84e11ebbb6c42010a19c839'\n",
       "\\end{enumerate*}\n"
      ],
      "text/markdown": [
       "1. 'dcda7bf8e84e11eb939942010a19c839'\n",
       "2. '8ff31584e84e11ebac5942010a19c839'\n",
       "3. '13cd8d1ce84f11eb915942010a19c839'\n",
       "4. 'a8a121c0e84e11eb8ae942010a19c839'\n",
       "5. 'ab136800e84e11eb8ae942010a19c839'\n",
       "6. 'e9c95406e84e11ebbb6c42010a19c839'\n",
       "\n",
       "\n"
      ],
      "text/plain": [
       "[1] \"dcda7bf8e84e11eb939942010a19c839\" \"8ff31584e84e11ebac5942010a19c839\"\n",
       "[3] \"13cd8d1ce84f11eb915942010a19c839\" \"a8a121c0e84e11eb8ae942010a19c839\"\n",
       "[5] \"ab136800e84e11eb8ae942010a19c839\" \"e9c95406e84e11ebbb6c42010a19c839\""
      ]
     },
     "metadata": {},
     "output_type": "display_data"
    }
   ],
   "source": [
    "head(proj$cellNames)\n",
    "clean_barcodes <- str_sub(proj$cellNames, 20, 51)\n",
    "head(clean_barcodes)"
   ]
  },
  {
   "cell_type": "code",
   "execution_count": 9,
   "metadata": {},
   "outputs": [],
   "source": [
    "proj$cellNames_clean <- clean_barcodes"
   ]
  },
  {
   "cell_type": "code",
   "execution_count": 10,
   "metadata": {},
   "outputs": [
    {
     "data": {
      "text/html": [
       "<style>\n",
       ".list-inline {list-style: none; margin:0; padding: 0}\n",
       ".list-inline>li {display: inline-block}\n",
       ".list-inline>li:not(:last-child)::after {content: \"\\00b7\"; padding: 0 .5ex}\n",
       "</style>\n",
       "<ol class=list-inline><li>'970c3f98e40811eba89d42010a19c839'</li><li>'971b0bd6e40811eba89d42010a19c839'</li><li>'97267fdee40811eba89d42010a19c839'</li><li>'9728e26ae40811eba89d42010a19c839'</li><li>'97475100e40811eba89d42010a19c839'</li><li>'97789738e40811eba89d42010a19c839'</li></ol>\n"
      ],
      "text/latex": [
       "\\begin{enumerate*}\n",
       "\\item '970c3f98e40811eba89d42010a19c839'\n",
       "\\item '971b0bd6e40811eba89d42010a19c839'\n",
       "\\item '97267fdee40811eba89d42010a19c839'\n",
       "\\item '9728e26ae40811eba89d42010a19c839'\n",
       "\\item '97475100e40811eba89d42010a19c839'\n",
       "\\item '97789738e40811eba89d42010a19c839'\n",
       "\\end{enumerate*}\n"
      ],
      "text/markdown": [
       "1. '970c3f98e40811eba89d42010a19c839'\n",
       "2. '971b0bd6e40811eba89d42010a19c839'\n",
       "3. '97267fdee40811eba89d42010a19c839'\n",
       "4. '9728e26ae40811eba89d42010a19c839'\n",
       "5. '97475100e40811eba89d42010a19c839'\n",
       "6. '97789738e40811eba89d42010a19c839'\n",
       "\n",
       "\n"
      ],
      "text/plain": [
       "[1] \"970c3f98e40811eba89d42010a19c839\" \"971b0bd6e40811eba89d42010a19c839\"\n",
       "[3] \"97267fdee40811eba89d42010a19c839\" \"9728e26ae40811eba89d42010a19c839\"\n",
       "[5] \"97475100e40811eba89d42010a19c839\" \"97789738e40811eba89d42010a19c839\""
      ]
     },
     "metadata": {},
     "output_type": "display_data"
    }
   ],
   "source": [
    "barcodes_rna <- colnames(rna_adt_so[['RNA']])\n",
    "head(barcodes_rna)"
   ]
  },
  {
   "cell_type": "code",
   "execution_count": 11,
   "metadata": {},
   "outputs": [
    {
     "data": {
      "text/html": [
       "<style>\n",
       ".list-inline {list-style: none; margin:0; padding: 0}\n",
       ".list-inline>li {display: inline-block}\n",
       ".list-inline>li:not(:last-child)::after {content: \"\\00b7\"; padding: 0 .5ex}\n",
       "</style>\n",
       "<ol class=list-inline><li>2</li><li>9</li><li>13</li><li>25</li><li>30</li><li>32</li></ol>\n"
      ],
      "text/latex": [
       "\\begin{enumerate*}\n",
       "\\item 2\n",
       "\\item 9\n",
       "\\item 13\n",
       "\\item 25\n",
       "\\item 30\n",
       "\\item 32\n",
       "\\end{enumerate*}\n"
      ],
      "text/markdown": [
       "1. 2\n",
       "2. 9\n",
       "3. 13\n",
       "4. 25\n",
       "5. 30\n",
       "6. 32\n",
       "\n",
       "\n"
      ],
      "text/plain": [
       "[1]  2  9 13 25 30 32"
      ]
     },
     "metadata": {},
     "output_type": "display_data"
    }
   ],
   "source": [
    "idx_new <- which(proj$cellNames_clean %in% barcodes_rna)\n",
    "head(idx_new)"
   ]
  },
  {
   "cell_type": "code",
   "execution_count": 12,
   "metadata": {},
   "outputs": [
    {
     "data": {
      "text/html": [
       "273866"
      ],
      "text/latex": [
       "273866"
      ],
      "text/markdown": [
       "273866"
      ],
      "text/plain": [
       "[1] 273866"
      ]
     },
     "metadata": {},
     "output_type": "display_data"
    },
    {
     "data": {
      "text/html": [
       "327662"
      ],
      "text/latex": [
       "327662"
      ],
      "text/markdown": [
       "327662"
      ],
      "text/plain": [
       "[1] 327662"
      ]
     },
     "metadata": {},
     "output_type": "display_data"
    }
   ],
   "source": [
    "length(colnames(rna_adt_so[['RNA']]))\n",
    "length(proj$cellNames)"
   ]
  },
  {
   "cell_type": "code",
   "execution_count": 13,
   "metadata": {},
   "outputs": [
    {
     "name": "stderr",
     "output_type": "stream",
     "text": [
      "\n",
      "           ___      .______        ______  __    __  .______      \n",
      "          /   \\     |   _  \\      /      ||  |  |  | |   _  \\     \n",
      "         /  ^  \\    |  |_)  |    |  ,----'|  |__|  | |  |_)  |    \n",
      "        /  /_\\  \\   |      /     |  |     |   __   | |      /     \n",
      "       /  _____  \\  |  |\\  \\\\___ |  `----.|  |  |  | |  |\\  \\\\___.\n",
      "      /__/     \\__\\ | _| `._____| \\______||__|  |__| | _| `._____|\n",
      "    \n",
      "\n"
     ]
    },
    {
     "data": {
      "text/plain": [
       "class: ArchRProject \n",
       "outputDirectory: /home/jupyter/UPenn_Demo/PedSen_ATAC \n",
       "samples(16): B076-P1_PB00124-02 B069-P1_PB00172-02 ...\n",
       "  B076-P1_PB00545-02 B076-P1_PB00599-02\n",
       "sampleColData names(1): ArrowFiles\n",
       "cellColData names(14): Sample TSSEnrichment ... BlacklistRatio\n",
       "  cellNames_clean\n",
       "numberOfCells(1): 273866\n",
       "medianTSS(1): 25.301\n",
       "medianFrags(1): 6923"
      ]
     },
     "metadata": {},
     "output_type": "display_data"
    }
   ],
   "source": [
    "cells_subset <- proj$cellNames[idx_new]\n",
    "proj_subset <- proj[cells_subset,]\n",
    "proj_subset"
   ]
  },
  {
   "cell_type": "markdown",
   "metadata": {},
   "source": [
    "## Transfer Metadata to ArchR Project"
   ]
  },
  {
   "cell_type": "code",
   "execution_count": 14,
   "metadata": {},
   "outputs": [
    {
     "data": {
      "text/html": [
       "<table class=\"dataframe\">\n",
       "<caption>A data.frame: 6 × 74</caption>\n",
       "<thead>\n",
       "\t<tr><th></th><th scope=col>orig.ident</th><th scope=col>nCount_RNA</th><th scope=col>nFeature_RNA</th><th scope=col>barcodes</th><th scope=col>adt_qc_flag</th><th scope=col>adt_umis</th><th scope=col>batch_id</th><th scope=col>cell_name</th><th scope=col>chip_id</th><th scope=col>hto_barcode</th><th scope=col>⋯</th><th scope=col>CMV</th><th scope=col>subject_id</th><th scope=col>age_cmv</th><th scope=col>nCount_clean_gex</th><th scope=col>nFeature_clean_gex</th><th scope=col>nCount_clean_adt</th><th scope=col>nFeature_clean_adt</th><th scope=col>SCT.weight</th><th scope=col>clean_adt.weight</th><th scope=col>Tiles.weight</th></tr>\n",
       "\t<tr><th></th><th scope=col>&lt;chr&gt;</th><th scope=col>&lt;dbl&gt;</th><th scope=col>&lt;int&gt;</th><th scope=col>&lt;chr&gt;</th><th scope=col>&lt;chr&gt;</th><th scope=col>&lt;int&gt;</th><th scope=col>&lt;chr&gt;</th><th scope=col>&lt;chr&gt;</th><th scope=col>&lt;chr&gt;</th><th scope=col>&lt;chr&gt;</th><th scope=col>⋯</th><th scope=col>&lt;fct&gt;</th><th scope=col>&lt;fct&gt;</th><th scope=col>&lt;chr&gt;</th><th scope=col>&lt;dbl&gt;</th><th scope=col>&lt;int&gt;</th><th scope=col>&lt;dbl&gt;</th><th scope=col>&lt;int&gt;</th><th scope=col>&lt;dbl&gt;</th><th scope=col>&lt;dbl&gt;</th><th scope=col>&lt;dbl&gt;</th></tr>\n",
       "</thead>\n",
       "<tbody>\n",
       "\t<tr><th scope=row>970c3f98e40811eba89d42010a19c839</th><td>SeuratProject</td><td>2338</td><td>1227</td><td>970c3f98e40811eba89d42010a19c839</td><td>Good</td><td>2184</td><td>B065</td><td>equatorial_wornout_skimmer   </td><td>B065-P1C1</td><td>CTCCTCTGCAATTAC</td><td>⋯</td><td>Positive</td><td>UP1006</td><td>Pediatric_CMV-Positive</td><td>2338</td><td>1227</td><td>2121</td><td>33</td><td>0.3747029</td><td>0.3696419</td><td>0.2556552</td></tr>\n",
       "\t<tr><th scope=row>971b0bd6e40811eba89d42010a19c839</th><td>SeuratProject</td><td>4382</td><td>1954</td><td>971b0bd6e40811eba89d42010a19c839</td><td>Good</td><td>3075</td><td>B065</td><td>artycrafty_graceful_robberfly</td><td>B065-P1C1</td><td>CTCCTCTGCAATTAC</td><td>⋯</td><td>Positive</td><td>UP1006</td><td>Pediatric_CMV-Positive</td><td>4380</td><td>1952</td><td>3013</td><td>32</td><td>0.4311530</td><td>0.3859967</td><td>0.1828503</td></tr>\n",
       "\t<tr><th scope=row>97267fdee40811eba89d42010a19c839</th><td>SeuratProject</td><td>4232</td><td>1932</td><td>97267fdee40811eba89d42010a19c839</td><td>Good</td><td>2234</td><td>B065</td><td>nonpsychic_condemned_mutt    </td><td>B065-P1C1</td><td>CTCCTCTGCAATTAC</td><td>⋯</td><td>Positive</td><td>UP1006</td><td>Pediatric_CMV-Positive</td><td>4232</td><td>1932</td><td>2186</td><td>29</td><td>0.2557901</td><td>0.4349854</td><td>0.3092244</td></tr>\n",
       "\t<tr><th scope=row>9728e26ae40811eba89d42010a19c839</th><td>SeuratProject</td><td>3515</td><td>1693</td><td>9728e26ae40811eba89d42010a19c839</td><td>Good</td><td>3204</td><td>B065</td><td>contiguous_ultrasonic_gavial </td><td>B065-P1C1</td><td>CTCCTCTGCAATTAC</td><td>⋯</td><td>Positive</td><td>UP1006</td><td>Pediatric_CMV-Positive</td><td>3513</td><td>1692</td><td>3145</td><td>29</td><td>0.3379603</td><td>0.3827271</td><td>0.2793125</td></tr>\n",
       "\t<tr><th scope=row>97475100e40811eba89d42010a19c839</th><td>SeuratProject</td><td>3021</td><td>1464</td><td>97475100e40811eba89d42010a19c839</td><td>Good</td><td>2798</td><td>B065</td><td>late_oriental_adouri         </td><td>B065-P1C1</td><td>CTCCTCTGCAATTAC</td><td>⋯</td><td>Positive</td><td>UP1006</td><td>Pediatric_CMV-Positive</td><td>3020</td><td>1463</td><td>2734</td><td>32</td><td>0.3000353</td><td>0.4466715</td><td>0.2532933</td></tr>\n",
       "\t<tr><th scope=row>97789738e40811eba89d42010a19c839</th><td>SeuratProject</td><td>3717</td><td>1701</td><td>97789738e40811eba89d42010a19c839</td><td>Good</td><td>2799</td><td>B065</td><td>seclusive_sandstone_manta    </td><td>B065-P1C1</td><td>CTCCTCTGCAATTAC</td><td>⋯</td><td>Positive</td><td>UP1006</td><td>Pediatric_CMV-Positive</td><td>3715</td><td>1700</td><td>2709</td><td>31</td><td>0.3359731</td><td>0.2803253</td><td>0.3837016</td></tr>\n",
       "</tbody>\n",
       "</table>\n"
      ],
      "text/latex": [
       "A data.frame: 6 × 74\n",
       "\\begin{tabular}{r|lllllllllllllllllllll}\n",
       "  & orig.ident & nCount\\_RNA & nFeature\\_RNA & barcodes & adt\\_qc\\_flag & adt\\_umis & batch\\_id & cell\\_name & chip\\_id & hto\\_barcode & ⋯ & CMV & subject\\_id & age\\_cmv & nCount\\_clean\\_gex & nFeature\\_clean\\_gex & nCount\\_clean\\_adt & nFeature\\_clean\\_adt & SCT.weight & clean\\_adt.weight & Tiles.weight\\\\\n",
       "  & <chr> & <dbl> & <int> & <chr> & <chr> & <int> & <chr> & <chr> & <chr> & <chr> & ⋯ & <fct> & <fct> & <chr> & <dbl> & <int> & <dbl> & <int> & <dbl> & <dbl> & <dbl>\\\\\n",
       "\\hline\n",
       "\t970c3f98e40811eba89d42010a19c839 & SeuratProject & 2338 & 1227 & 970c3f98e40811eba89d42010a19c839 & Good & 2184 & B065 & equatorial\\_wornout\\_skimmer    & B065-P1C1 & CTCCTCTGCAATTAC & ⋯ & Positive & UP1006 & Pediatric\\_CMV-Positive & 2338 & 1227 & 2121 & 33 & 0.3747029 & 0.3696419 & 0.2556552\\\\\n",
       "\t971b0bd6e40811eba89d42010a19c839 & SeuratProject & 4382 & 1954 & 971b0bd6e40811eba89d42010a19c839 & Good & 3075 & B065 & artycrafty\\_graceful\\_robberfly & B065-P1C1 & CTCCTCTGCAATTAC & ⋯ & Positive & UP1006 & Pediatric\\_CMV-Positive & 4380 & 1952 & 3013 & 32 & 0.4311530 & 0.3859967 & 0.1828503\\\\\n",
       "\t97267fdee40811eba89d42010a19c839 & SeuratProject & 4232 & 1932 & 97267fdee40811eba89d42010a19c839 & Good & 2234 & B065 & nonpsychic\\_condemned\\_mutt     & B065-P1C1 & CTCCTCTGCAATTAC & ⋯ & Positive & UP1006 & Pediatric\\_CMV-Positive & 4232 & 1932 & 2186 & 29 & 0.2557901 & 0.4349854 & 0.3092244\\\\\n",
       "\t9728e26ae40811eba89d42010a19c839 & SeuratProject & 3515 & 1693 & 9728e26ae40811eba89d42010a19c839 & Good & 3204 & B065 & contiguous\\_ultrasonic\\_gavial  & B065-P1C1 & CTCCTCTGCAATTAC & ⋯ & Positive & UP1006 & Pediatric\\_CMV-Positive & 3513 & 1692 & 3145 & 29 & 0.3379603 & 0.3827271 & 0.2793125\\\\\n",
       "\t97475100e40811eba89d42010a19c839 & SeuratProject & 3021 & 1464 & 97475100e40811eba89d42010a19c839 & Good & 2798 & B065 & late\\_oriental\\_adouri          & B065-P1C1 & CTCCTCTGCAATTAC & ⋯ & Positive & UP1006 & Pediatric\\_CMV-Positive & 3020 & 1463 & 2734 & 32 & 0.3000353 & 0.4466715 & 0.2532933\\\\\n",
       "\t97789738e40811eba89d42010a19c839 & SeuratProject & 3717 & 1701 & 97789738e40811eba89d42010a19c839 & Good & 2799 & B065 & seclusive\\_sandstone\\_manta     & B065-P1C1 & CTCCTCTGCAATTAC & ⋯ & Positive & UP1006 & Pediatric\\_CMV-Positive & 3715 & 1700 & 2709 & 31 & 0.3359731 & 0.2803253 & 0.3837016\\\\\n",
       "\\end{tabular}\n"
      ],
      "text/markdown": [
       "\n",
       "A data.frame: 6 × 74\n",
       "\n",
       "| <!--/--> | orig.ident &lt;chr&gt; | nCount_RNA &lt;dbl&gt; | nFeature_RNA &lt;int&gt; | barcodes &lt;chr&gt; | adt_qc_flag &lt;chr&gt; | adt_umis &lt;int&gt; | batch_id &lt;chr&gt; | cell_name &lt;chr&gt; | chip_id &lt;chr&gt; | hto_barcode &lt;chr&gt; | ⋯ ⋯ | CMV &lt;fct&gt; | subject_id &lt;fct&gt; | age_cmv &lt;chr&gt; | nCount_clean_gex &lt;dbl&gt; | nFeature_clean_gex &lt;int&gt; | nCount_clean_adt &lt;dbl&gt; | nFeature_clean_adt &lt;int&gt; | SCT.weight &lt;dbl&gt; | clean_adt.weight &lt;dbl&gt; | Tiles.weight &lt;dbl&gt; |\n",
       "|---|---|---|---|---|---|---|---|---|---|---|---|---|---|---|---|---|---|---|---|---|---|\n",
       "| 970c3f98e40811eba89d42010a19c839 | SeuratProject | 2338 | 1227 | 970c3f98e40811eba89d42010a19c839 | Good | 2184 | B065 | equatorial_wornout_skimmer    | B065-P1C1 | CTCCTCTGCAATTAC | ⋯ | Positive | UP1006 | Pediatric_CMV-Positive | 2338 | 1227 | 2121 | 33 | 0.3747029 | 0.3696419 | 0.2556552 |\n",
       "| 971b0bd6e40811eba89d42010a19c839 | SeuratProject | 4382 | 1954 | 971b0bd6e40811eba89d42010a19c839 | Good | 3075 | B065 | artycrafty_graceful_robberfly | B065-P1C1 | CTCCTCTGCAATTAC | ⋯ | Positive | UP1006 | Pediatric_CMV-Positive | 4380 | 1952 | 3013 | 32 | 0.4311530 | 0.3859967 | 0.1828503 |\n",
       "| 97267fdee40811eba89d42010a19c839 | SeuratProject | 4232 | 1932 | 97267fdee40811eba89d42010a19c839 | Good | 2234 | B065 | nonpsychic_condemned_mutt     | B065-P1C1 | CTCCTCTGCAATTAC | ⋯ | Positive | UP1006 | Pediatric_CMV-Positive | 4232 | 1932 | 2186 | 29 | 0.2557901 | 0.4349854 | 0.3092244 |\n",
       "| 9728e26ae40811eba89d42010a19c839 | SeuratProject | 3515 | 1693 | 9728e26ae40811eba89d42010a19c839 | Good | 3204 | B065 | contiguous_ultrasonic_gavial  | B065-P1C1 | CTCCTCTGCAATTAC | ⋯ | Positive | UP1006 | Pediatric_CMV-Positive | 3513 | 1692 | 3145 | 29 | 0.3379603 | 0.3827271 | 0.2793125 |\n",
       "| 97475100e40811eba89d42010a19c839 | SeuratProject | 3021 | 1464 | 97475100e40811eba89d42010a19c839 | Good | 2798 | B065 | late_oriental_adouri          | B065-P1C1 | CTCCTCTGCAATTAC | ⋯ | Positive | UP1006 | Pediatric_CMV-Positive | 3020 | 1463 | 2734 | 32 | 0.3000353 | 0.4466715 | 0.2532933 |\n",
       "| 97789738e40811eba89d42010a19c839 | SeuratProject | 3717 | 1701 | 97789738e40811eba89d42010a19c839 | Good | 2799 | B065 | seclusive_sandstone_manta     | B065-P1C1 | CTCCTCTGCAATTAC | ⋯ | Positive | UP1006 | Pediatric_CMV-Positive | 3715 | 1700 | 2709 | 31 | 0.3359731 | 0.2803253 | 0.3837016 |\n",
       "\n"
      ],
      "text/plain": [
       "                                 orig.ident    nCount_RNA nFeature_RNA\n",
       "970c3f98e40811eba89d42010a19c839 SeuratProject 2338       1227        \n",
       "971b0bd6e40811eba89d42010a19c839 SeuratProject 4382       1954        \n",
       "97267fdee40811eba89d42010a19c839 SeuratProject 4232       1932        \n",
       "9728e26ae40811eba89d42010a19c839 SeuratProject 3515       1693        \n",
       "97475100e40811eba89d42010a19c839 SeuratProject 3021       1464        \n",
       "97789738e40811eba89d42010a19c839 SeuratProject 3717       1701        \n",
       "                                 barcodes                         adt_qc_flag\n",
       "970c3f98e40811eba89d42010a19c839 970c3f98e40811eba89d42010a19c839 Good       \n",
       "971b0bd6e40811eba89d42010a19c839 971b0bd6e40811eba89d42010a19c839 Good       \n",
       "97267fdee40811eba89d42010a19c839 97267fdee40811eba89d42010a19c839 Good       \n",
       "9728e26ae40811eba89d42010a19c839 9728e26ae40811eba89d42010a19c839 Good       \n",
       "97475100e40811eba89d42010a19c839 97475100e40811eba89d42010a19c839 Good       \n",
       "97789738e40811eba89d42010a19c839 97789738e40811eba89d42010a19c839 Good       \n",
       "                                 adt_umis batch_id\n",
       "970c3f98e40811eba89d42010a19c839 2184     B065    \n",
       "971b0bd6e40811eba89d42010a19c839 3075     B065    \n",
       "97267fdee40811eba89d42010a19c839 2234     B065    \n",
       "9728e26ae40811eba89d42010a19c839 3204     B065    \n",
       "97475100e40811eba89d42010a19c839 2798     B065    \n",
       "97789738e40811eba89d42010a19c839 2799     B065    \n",
       "                                 cell_name                     chip_id  \n",
       "970c3f98e40811eba89d42010a19c839 equatorial_wornout_skimmer    B065-P1C1\n",
       "971b0bd6e40811eba89d42010a19c839 artycrafty_graceful_robberfly B065-P1C1\n",
       "97267fdee40811eba89d42010a19c839 nonpsychic_condemned_mutt     B065-P1C1\n",
       "9728e26ae40811eba89d42010a19c839 contiguous_ultrasonic_gavial  B065-P1C1\n",
       "97475100e40811eba89d42010a19c839 late_oriental_adouri          B065-P1C1\n",
       "97789738e40811eba89d42010a19c839 seclusive_sandstone_manta     B065-P1C1\n",
       "                                 hto_barcode     ⋯ CMV      subject_id\n",
       "970c3f98e40811eba89d42010a19c839 CTCCTCTGCAATTAC ⋯ Positive UP1006    \n",
       "971b0bd6e40811eba89d42010a19c839 CTCCTCTGCAATTAC ⋯ Positive UP1006    \n",
       "97267fdee40811eba89d42010a19c839 CTCCTCTGCAATTAC ⋯ Positive UP1006    \n",
       "9728e26ae40811eba89d42010a19c839 CTCCTCTGCAATTAC ⋯ Positive UP1006    \n",
       "97475100e40811eba89d42010a19c839 CTCCTCTGCAATTAC ⋯ Positive UP1006    \n",
       "97789738e40811eba89d42010a19c839 CTCCTCTGCAATTAC ⋯ Positive UP1006    \n",
       "                                 age_cmv                nCount_clean_gex\n",
       "970c3f98e40811eba89d42010a19c839 Pediatric_CMV-Positive 2338            \n",
       "971b0bd6e40811eba89d42010a19c839 Pediatric_CMV-Positive 4380            \n",
       "97267fdee40811eba89d42010a19c839 Pediatric_CMV-Positive 4232            \n",
       "9728e26ae40811eba89d42010a19c839 Pediatric_CMV-Positive 3513            \n",
       "97475100e40811eba89d42010a19c839 Pediatric_CMV-Positive 3020            \n",
       "97789738e40811eba89d42010a19c839 Pediatric_CMV-Positive 3715            \n",
       "                                 nFeature_clean_gex nCount_clean_adt\n",
       "970c3f98e40811eba89d42010a19c839 1227               2121            \n",
       "971b0bd6e40811eba89d42010a19c839 1952               3013            \n",
       "97267fdee40811eba89d42010a19c839 1932               2186            \n",
       "9728e26ae40811eba89d42010a19c839 1692               3145            \n",
       "97475100e40811eba89d42010a19c839 1463               2734            \n",
       "97789738e40811eba89d42010a19c839 1700               2709            \n",
       "                                 nFeature_clean_adt SCT.weight clean_adt.weight\n",
       "970c3f98e40811eba89d42010a19c839 33                 0.3747029  0.3696419       \n",
       "971b0bd6e40811eba89d42010a19c839 32                 0.4311530  0.3859967       \n",
       "97267fdee40811eba89d42010a19c839 29                 0.2557901  0.4349854       \n",
       "9728e26ae40811eba89d42010a19c839 29                 0.3379603  0.3827271       \n",
       "97475100e40811eba89d42010a19c839 32                 0.3000353  0.4466715       \n",
       "97789738e40811eba89d42010a19c839 31                 0.3359731  0.2803253       \n",
       "                                 Tiles.weight\n",
       "970c3f98e40811eba89d42010a19c839 0.2556552   \n",
       "971b0bd6e40811eba89d42010a19c839 0.1828503   \n",
       "97267fdee40811eba89d42010a19c839 0.3092244   \n",
       "9728e26ae40811eba89d42010a19c839 0.2793125   \n",
       "97475100e40811eba89d42010a19c839 0.2532933   \n",
       "97789738e40811eba89d42010a19c839 0.3837016   "
      ]
     },
     "metadata": {},
     "output_type": "display_data"
    },
    {
     "data": {
      "text/html": [
       "<style>\n",
       ".list-inline {list-style: none; margin:0; padding: 0}\n",
       ".list-inline>li {display: inline-block}\n",
       ".list-inline>li:not(:last-child)::after {content: \"\\00b7\"; padding: 0 .5ex}\n",
       "</style>\n",
       "<ol class=list-inline><li>'8ff31584e84e11ebac5942010a19c839'</li><li>'682dcba2e84e11eb975f42010a19c839'</li><li>'0ff9ba76e84f11eb915942010a19c839'</li><li>'c1f529e6e84e11eb909942010a19c839'</li><li>'8551ed4ee84e11eb8a7c42010a19c839'</li><li>'679178bae84e11eb975f42010a19c839'</li></ol>\n"
      ],
      "text/latex": [
       "\\begin{enumerate*}\n",
       "\\item '8ff31584e84e11ebac5942010a19c839'\n",
       "\\item '682dcba2e84e11eb975f42010a19c839'\n",
       "\\item '0ff9ba76e84f11eb915942010a19c839'\n",
       "\\item 'c1f529e6e84e11eb909942010a19c839'\n",
       "\\item '8551ed4ee84e11eb8a7c42010a19c839'\n",
       "\\item '679178bae84e11eb975f42010a19c839'\n",
       "\\end{enumerate*}\n"
      ],
      "text/markdown": [
       "1. '8ff31584e84e11ebac5942010a19c839'\n",
       "2. '682dcba2e84e11eb975f42010a19c839'\n",
       "3. '0ff9ba76e84f11eb915942010a19c839'\n",
       "4. 'c1f529e6e84e11eb909942010a19c839'\n",
       "5. '8551ed4ee84e11eb8a7c42010a19c839'\n",
       "6. '679178bae84e11eb975f42010a19c839'\n",
       "\n",
       "\n"
      ],
      "text/plain": [
       "[1] \"8ff31584e84e11ebac5942010a19c839\" \"682dcba2e84e11eb975f42010a19c839\"\n",
       "[3] \"0ff9ba76e84f11eb915942010a19c839\" \"c1f529e6e84e11eb909942010a19c839\"\n",
       "[5] \"8551ed4ee84e11eb8a7c42010a19c839\" \"679178bae84e11eb975f42010a19c839\""
      ]
     },
     "metadata": {},
     "output_type": "display_data"
    }
   ],
   "source": [
    "rna_metadata <- rna_adt_so@meta.data\n",
    "head(rna_metadata)\n",
    "head(proj_subset$cellNames_clean)"
   ]
  },
  {
   "cell_type": "code",
   "execution_count": 15,
   "metadata": {},
   "outputs": [
    {
     "data": {
      "text/plain": [
       "bc_idx\n",
       "  TRUE \n",
       "273866 "
      ]
     },
     "metadata": {},
     "output_type": "display_data"
    }
   ],
   "source": [
    "bc_idx <- barcodes_rna %in% clean_barcodes\n",
    "table(bc_idx)"
   ]
  },
  {
   "cell_type": "code",
   "execution_count": 16,
   "metadata": {},
   "outputs": [],
   "source": [
    "# all cells overlap - so no need to subset rna metadata\n",
    "#rna_meta_subset <- rna_metadata[bc_idx,]\n",
    "#length(rownames(rna_meta_subset))"
   ]
  },
  {
   "cell_type": "code",
   "execution_count": 17,
   "metadata": {},
   "outputs": [
    {
     "data": {
      "text/plain": [
       "\n",
       " FALSE   TRUE \n",
       "273863      3 "
      ]
     },
     "metadata": {},
     "output_type": "display_data"
    }
   ],
   "source": [
    "# check barcode alignment\n",
    "table(proj_subset$cellNames_clean == rownames(rna_metadata))"
   ]
  },
  {
   "cell_type": "code",
   "execution_count": 18,
   "metadata": {},
   "outputs": [
    {
     "data": {
      "text/html": [
       "<table class=\"dataframe\">\n",
       "<caption>A data.frame: 6 × 74</caption>\n",
       "<thead>\n",
       "\t<tr><th></th><th scope=col>orig.ident</th><th scope=col>nCount_RNA</th><th scope=col>nFeature_RNA</th><th scope=col>barcodes</th><th scope=col>adt_qc_flag</th><th scope=col>adt_umis</th><th scope=col>batch_id</th><th scope=col>cell_name</th><th scope=col>chip_id</th><th scope=col>hto_barcode</th><th scope=col>⋯</th><th scope=col>CMV</th><th scope=col>subject_id</th><th scope=col>age_cmv</th><th scope=col>nCount_clean_gex</th><th scope=col>nFeature_clean_gex</th><th scope=col>nCount_clean_adt</th><th scope=col>nFeature_clean_adt</th><th scope=col>SCT.weight</th><th scope=col>clean_adt.weight</th><th scope=col>Tiles.weight</th></tr>\n",
       "\t<tr><th></th><th scope=col>&lt;chr&gt;</th><th scope=col>&lt;dbl&gt;</th><th scope=col>&lt;int&gt;</th><th scope=col>&lt;chr&gt;</th><th scope=col>&lt;chr&gt;</th><th scope=col>&lt;int&gt;</th><th scope=col>&lt;chr&gt;</th><th scope=col>&lt;chr&gt;</th><th scope=col>&lt;chr&gt;</th><th scope=col>&lt;chr&gt;</th><th scope=col>⋯</th><th scope=col>&lt;fct&gt;</th><th scope=col>&lt;fct&gt;</th><th scope=col>&lt;chr&gt;</th><th scope=col>&lt;dbl&gt;</th><th scope=col>&lt;int&gt;</th><th scope=col>&lt;dbl&gt;</th><th scope=col>&lt;int&gt;</th><th scope=col>&lt;dbl&gt;</th><th scope=col>&lt;dbl&gt;</th><th scope=col>&lt;dbl&gt;</th></tr>\n",
       "</thead>\n",
       "<tbody>\n",
       "\t<tr><th scope=row>970c3f98e40811eba89d42010a19c839</th><td>SeuratProject</td><td>2338</td><td>1227</td><td>970c3f98e40811eba89d42010a19c839</td><td>Good</td><td>2184</td><td>B065</td><td>equatorial_wornout_skimmer   </td><td>B065-P1C1</td><td>CTCCTCTGCAATTAC</td><td>⋯</td><td>Positive</td><td>UP1006</td><td>Pediatric_CMV-Positive</td><td>2338</td><td>1227</td><td>2121</td><td>33</td><td>0.3747029</td><td>0.3696419</td><td>0.2556552</td></tr>\n",
       "\t<tr><th scope=row>971b0bd6e40811eba89d42010a19c839</th><td>SeuratProject</td><td>4382</td><td>1954</td><td>971b0bd6e40811eba89d42010a19c839</td><td>Good</td><td>3075</td><td>B065</td><td>artycrafty_graceful_robberfly</td><td>B065-P1C1</td><td>CTCCTCTGCAATTAC</td><td>⋯</td><td>Positive</td><td>UP1006</td><td>Pediatric_CMV-Positive</td><td>4380</td><td>1952</td><td>3013</td><td>32</td><td>0.4311530</td><td>0.3859967</td><td>0.1828503</td></tr>\n",
       "\t<tr><th scope=row>97267fdee40811eba89d42010a19c839</th><td>SeuratProject</td><td>4232</td><td>1932</td><td>97267fdee40811eba89d42010a19c839</td><td>Good</td><td>2234</td><td>B065</td><td>nonpsychic_condemned_mutt    </td><td>B065-P1C1</td><td>CTCCTCTGCAATTAC</td><td>⋯</td><td>Positive</td><td>UP1006</td><td>Pediatric_CMV-Positive</td><td>4232</td><td>1932</td><td>2186</td><td>29</td><td>0.2557901</td><td>0.4349854</td><td>0.3092244</td></tr>\n",
       "\t<tr><th scope=row>9728e26ae40811eba89d42010a19c839</th><td>SeuratProject</td><td>3515</td><td>1693</td><td>9728e26ae40811eba89d42010a19c839</td><td>Good</td><td>3204</td><td>B065</td><td>contiguous_ultrasonic_gavial </td><td>B065-P1C1</td><td>CTCCTCTGCAATTAC</td><td>⋯</td><td>Positive</td><td>UP1006</td><td>Pediatric_CMV-Positive</td><td>3513</td><td>1692</td><td>3145</td><td>29</td><td>0.3379603</td><td>0.3827271</td><td>0.2793125</td></tr>\n",
       "\t<tr><th scope=row>97475100e40811eba89d42010a19c839</th><td>SeuratProject</td><td>3021</td><td>1464</td><td>97475100e40811eba89d42010a19c839</td><td>Good</td><td>2798</td><td>B065</td><td>late_oriental_adouri         </td><td>B065-P1C1</td><td>CTCCTCTGCAATTAC</td><td>⋯</td><td>Positive</td><td>UP1006</td><td>Pediatric_CMV-Positive</td><td>3020</td><td>1463</td><td>2734</td><td>32</td><td>0.3000353</td><td>0.4466715</td><td>0.2532933</td></tr>\n",
       "\t<tr><th scope=row>97789738e40811eba89d42010a19c839</th><td>SeuratProject</td><td>3717</td><td>1701</td><td>97789738e40811eba89d42010a19c839</td><td>Good</td><td>2799</td><td>B065</td><td>seclusive_sandstone_manta    </td><td>B065-P1C1</td><td>CTCCTCTGCAATTAC</td><td>⋯</td><td>Positive</td><td>UP1006</td><td>Pediatric_CMV-Positive</td><td>3715</td><td>1700</td><td>2709</td><td>31</td><td>0.3359731</td><td>0.2803253</td><td>0.3837016</td></tr>\n",
       "</tbody>\n",
       "</table>\n"
      ],
      "text/latex": [
       "A data.frame: 6 × 74\n",
       "\\begin{tabular}{r|lllllllllllllllllllll}\n",
       "  & orig.ident & nCount\\_RNA & nFeature\\_RNA & barcodes & adt\\_qc\\_flag & adt\\_umis & batch\\_id & cell\\_name & chip\\_id & hto\\_barcode & ⋯ & CMV & subject\\_id & age\\_cmv & nCount\\_clean\\_gex & nFeature\\_clean\\_gex & nCount\\_clean\\_adt & nFeature\\_clean\\_adt & SCT.weight & clean\\_adt.weight & Tiles.weight\\\\\n",
       "  & <chr> & <dbl> & <int> & <chr> & <chr> & <int> & <chr> & <chr> & <chr> & <chr> & ⋯ & <fct> & <fct> & <chr> & <dbl> & <int> & <dbl> & <int> & <dbl> & <dbl> & <dbl>\\\\\n",
       "\\hline\n",
       "\t970c3f98e40811eba89d42010a19c839 & SeuratProject & 2338 & 1227 & 970c3f98e40811eba89d42010a19c839 & Good & 2184 & B065 & equatorial\\_wornout\\_skimmer    & B065-P1C1 & CTCCTCTGCAATTAC & ⋯ & Positive & UP1006 & Pediatric\\_CMV-Positive & 2338 & 1227 & 2121 & 33 & 0.3747029 & 0.3696419 & 0.2556552\\\\\n",
       "\t971b0bd6e40811eba89d42010a19c839 & SeuratProject & 4382 & 1954 & 971b0bd6e40811eba89d42010a19c839 & Good & 3075 & B065 & artycrafty\\_graceful\\_robberfly & B065-P1C1 & CTCCTCTGCAATTAC & ⋯ & Positive & UP1006 & Pediatric\\_CMV-Positive & 4380 & 1952 & 3013 & 32 & 0.4311530 & 0.3859967 & 0.1828503\\\\\n",
       "\t97267fdee40811eba89d42010a19c839 & SeuratProject & 4232 & 1932 & 97267fdee40811eba89d42010a19c839 & Good & 2234 & B065 & nonpsychic\\_condemned\\_mutt     & B065-P1C1 & CTCCTCTGCAATTAC & ⋯ & Positive & UP1006 & Pediatric\\_CMV-Positive & 4232 & 1932 & 2186 & 29 & 0.2557901 & 0.4349854 & 0.3092244\\\\\n",
       "\t9728e26ae40811eba89d42010a19c839 & SeuratProject & 3515 & 1693 & 9728e26ae40811eba89d42010a19c839 & Good & 3204 & B065 & contiguous\\_ultrasonic\\_gavial  & B065-P1C1 & CTCCTCTGCAATTAC & ⋯ & Positive & UP1006 & Pediatric\\_CMV-Positive & 3513 & 1692 & 3145 & 29 & 0.3379603 & 0.3827271 & 0.2793125\\\\\n",
       "\t97475100e40811eba89d42010a19c839 & SeuratProject & 3021 & 1464 & 97475100e40811eba89d42010a19c839 & Good & 2798 & B065 & late\\_oriental\\_adouri          & B065-P1C1 & CTCCTCTGCAATTAC & ⋯ & Positive & UP1006 & Pediatric\\_CMV-Positive & 3020 & 1463 & 2734 & 32 & 0.3000353 & 0.4466715 & 0.2532933\\\\\n",
       "\t97789738e40811eba89d42010a19c839 & SeuratProject & 3717 & 1701 & 97789738e40811eba89d42010a19c839 & Good & 2799 & B065 & seclusive\\_sandstone\\_manta     & B065-P1C1 & CTCCTCTGCAATTAC & ⋯ & Positive & UP1006 & Pediatric\\_CMV-Positive & 3715 & 1700 & 2709 & 31 & 0.3359731 & 0.2803253 & 0.3837016\\\\\n",
       "\\end{tabular}\n"
      ],
      "text/markdown": [
       "\n",
       "A data.frame: 6 × 74\n",
       "\n",
       "| <!--/--> | orig.ident &lt;chr&gt; | nCount_RNA &lt;dbl&gt; | nFeature_RNA &lt;int&gt; | barcodes &lt;chr&gt; | adt_qc_flag &lt;chr&gt; | adt_umis &lt;int&gt; | batch_id &lt;chr&gt; | cell_name &lt;chr&gt; | chip_id &lt;chr&gt; | hto_barcode &lt;chr&gt; | ⋯ ⋯ | CMV &lt;fct&gt; | subject_id &lt;fct&gt; | age_cmv &lt;chr&gt; | nCount_clean_gex &lt;dbl&gt; | nFeature_clean_gex &lt;int&gt; | nCount_clean_adt &lt;dbl&gt; | nFeature_clean_adt &lt;int&gt; | SCT.weight &lt;dbl&gt; | clean_adt.weight &lt;dbl&gt; | Tiles.weight &lt;dbl&gt; |\n",
       "|---|---|---|---|---|---|---|---|---|---|---|---|---|---|---|---|---|---|---|---|---|---|\n",
       "| 970c3f98e40811eba89d42010a19c839 | SeuratProject | 2338 | 1227 | 970c3f98e40811eba89d42010a19c839 | Good | 2184 | B065 | equatorial_wornout_skimmer    | B065-P1C1 | CTCCTCTGCAATTAC | ⋯ | Positive | UP1006 | Pediatric_CMV-Positive | 2338 | 1227 | 2121 | 33 | 0.3747029 | 0.3696419 | 0.2556552 |\n",
       "| 971b0bd6e40811eba89d42010a19c839 | SeuratProject | 4382 | 1954 | 971b0bd6e40811eba89d42010a19c839 | Good | 3075 | B065 | artycrafty_graceful_robberfly | B065-P1C1 | CTCCTCTGCAATTAC | ⋯ | Positive | UP1006 | Pediatric_CMV-Positive | 4380 | 1952 | 3013 | 32 | 0.4311530 | 0.3859967 | 0.1828503 |\n",
       "| 97267fdee40811eba89d42010a19c839 | SeuratProject | 4232 | 1932 | 97267fdee40811eba89d42010a19c839 | Good | 2234 | B065 | nonpsychic_condemned_mutt     | B065-P1C1 | CTCCTCTGCAATTAC | ⋯ | Positive | UP1006 | Pediatric_CMV-Positive | 4232 | 1932 | 2186 | 29 | 0.2557901 | 0.4349854 | 0.3092244 |\n",
       "| 9728e26ae40811eba89d42010a19c839 | SeuratProject | 3515 | 1693 | 9728e26ae40811eba89d42010a19c839 | Good | 3204 | B065 | contiguous_ultrasonic_gavial  | B065-P1C1 | CTCCTCTGCAATTAC | ⋯ | Positive | UP1006 | Pediatric_CMV-Positive | 3513 | 1692 | 3145 | 29 | 0.3379603 | 0.3827271 | 0.2793125 |\n",
       "| 97475100e40811eba89d42010a19c839 | SeuratProject | 3021 | 1464 | 97475100e40811eba89d42010a19c839 | Good | 2798 | B065 | late_oriental_adouri          | B065-P1C1 | CTCCTCTGCAATTAC | ⋯ | Positive | UP1006 | Pediatric_CMV-Positive | 3020 | 1463 | 2734 | 32 | 0.3000353 | 0.4466715 | 0.2532933 |\n",
       "| 97789738e40811eba89d42010a19c839 | SeuratProject | 3717 | 1701 | 97789738e40811eba89d42010a19c839 | Good | 2799 | B065 | seclusive_sandstone_manta     | B065-P1C1 | CTCCTCTGCAATTAC | ⋯ | Positive | UP1006 | Pediatric_CMV-Positive | 3715 | 1700 | 2709 | 31 | 0.3359731 | 0.2803253 | 0.3837016 |\n",
       "\n"
      ],
      "text/plain": [
       "                                 orig.ident    nCount_RNA nFeature_RNA\n",
       "970c3f98e40811eba89d42010a19c839 SeuratProject 2338       1227        \n",
       "971b0bd6e40811eba89d42010a19c839 SeuratProject 4382       1954        \n",
       "97267fdee40811eba89d42010a19c839 SeuratProject 4232       1932        \n",
       "9728e26ae40811eba89d42010a19c839 SeuratProject 3515       1693        \n",
       "97475100e40811eba89d42010a19c839 SeuratProject 3021       1464        \n",
       "97789738e40811eba89d42010a19c839 SeuratProject 3717       1701        \n",
       "                                 barcodes                         adt_qc_flag\n",
       "970c3f98e40811eba89d42010a19c839 970c3f98e40811eba89d42010a19c839 Good       \n",
       "971b0bd6e40811eba89d42010a19c839 971b0bd6e40811eba89d42010a19c839 Good       \n",
       "97267fdee40811eba89d42010a19c839 97267fdee40811eba89d42010a19c839 Good       \n",
       "9728e26ae40811eba89d42010a19c839 9728e26ae40811eba89d42010a19c839 Good       \n",
       "97475100e40811eba89d42010a19c839 97475100e40811eba89d42010a19c839 Good       \n",
       "97789738e40811eba89d42010a19c839 97789738e40811eba89d42010a19c839 Good       \n",
       "                                 adt_umis batch_id\n",
       "970c3f98e40811eba89d42010a19c839 2184     B065    \n",
       "971b0bd6e40811eba89d42010a19c839 3075     B065    \n",
       "97267fdee40811eba89d42010a19c839 2234     B065    \n",
       "9728e26ae40811eba89d42010a19c839 3204     B065    \n",
       "97475100e40811eba89d42010a19c839 2798     B065    \n",
       "97789738e40811eba89d42010a19c839 2799     B065    \n",
       "                                 cell_name                     chip_id  \n",
       "970c3f98e40811eba89d42010a19c839 equatorial_wornout_skimmer    B065-P1C1\n",
       "971b0bd6e40811eba89d42010a19c839 artycrafty_graceful_robberfly B065-P1C1\n",
       "97267fdee40811eba89d42010a19c839 nonpsychic_condemned_mutt     B065-P1C1\n",
       "9728e26ae40811eba89d42010a19c839 contiguous_ultrasonic_gavial  B065-P1C1\n",
       "97475100e40811eba89d42010a19c839 late_oriental_adouri          B065-P1C1\n",
       "97789738e40811eba89d42010a19c839 seclusive_sandstone_manta     B065-P1C1\n",
       "                                 hto_barcode     ⋯ CMV      subject_id\n",
       "970c3f98e40811eba89d42010a19c839 CTCCTCTGCAATTAC ⋯ Positive UP1006    \n",
       "971b0bd6e40811eba89d42010a19c839 CTCCTCTGCAATTAC ⋯ Positive UP1006    \n",
       "97267fdee40811eba89d42010a19c839 CTCCTCTGCAATTAC ⋯ Positive UP1006    \n",
       "9728e26ae40811eba89d42010a19c839 CTCCTCTGCAATTAC ⋯ Positive UP1006    \n",
       "97475100e40811eba89d42010a19c839 CTCCTCTGCAATTAC ⋯ Positive UP1006    \n",
       "97789738e40811eba89d42010a19c839 CTCCTCTGCAATTAC ⋯ Positive UP1006    \n",
       "                                 age_cmv                nCount_clean_gex\n",
       "970c3f98e40811eba89d42010a19c839 Pediatric_CMV-Positive 2338            \n",
       "971b0bd6e40811eba89d42010a19c839 Pediatric_CMV-Positive 4380            \n",
       "97267fdee40811eba89d42010a19c839 Pediatric_CMV-Positive 4232            \n",
       "9728e26ae40811eba89d42010a19c839 Pediatric_CMV-Positive 3513            \n",
       "97475100e40811eba89d42010a19c839 Pediatric_CMV-Positive 3020            \n",
       "97789738e40811eba89d42010a19c839 Pediatric_CMV-Positive 3715            \n",
       "                                 nFeature_clean_gex nCount_clean_adt\n",
       "970c3f98e40811eba89d42010a19c839 1227               2121            \n",
       "971b0bd6e40811eba89d42010a19c839 1952               3013            \n",
       "97267fdee40811eba89d42010a19c839 1932               2186            \n",
       "9728e26ae40811eba89d42010a19c839 1692               3145            \n",
       "97475100e40811eba89d42010a19c839 1463               2734            \n",
       "97789738e40811eba89d42010a19c839 1700               2709            \n",
       "                                 nFeature_clean_adt SCT.weight clean_adt.weight\n",
       "970c3f98e40811eba89d42010a19c839 33                 0.3747029  0.3696419       \n",
       "971b0bd6e40811eba89d42010a19c839 32                 0.4311530  0.3859967       \n",
       "97267fdee40811eba89d42010a19c839 29                 0.2557901  0.4349854       \n",
       "9728e26ae40811eba89d42010a19c839 29                 0.3379603  0.3827271       \n",
       "97475100e40811eba89d42010a19c839 32                 0.3000353  0.4466715       \n",
       "97789738e40811eba89d42010a19c839 31                 0.3359731  0.2803253       \n",
       "                                 Tiles.weight\n",
       "970c3f98e40811eba89d42010a19c839 0.2556552   \n",
       "971b0bd6e40811eba89d42010a19c839 0.1828503   \n",
       "97267fdee40811eba89d42010a19c839 0.3092244   \n",
       "9728e26ae40811eba89d42010a19c839 0.2793125   \n",
       "97475100e40811eba89d42010a19c839 0.2532933   \n",
       "97789738e40811eba89d42010a19c839 0.3837016   "
      ]
     },
     "metadata": {},
     "output_type": "display_data"
    }
   ],
   "source": [
    "head(rna_metadata)"
   ]
  },
  {
   "cell_type": "code",
   "execution_count": 19,
   "metadata": {},
   "outputs": [],
   "source": [
    "rna_metadata <- rna_metadata[match(proj_subset$cellNames_clean, rownames(rna_metadata)),]"
   ]
  },
  {
   "cell_type": "code",
   "execution_count": 20,
   "metadata": {},
   "outputs": [
    {
     "data": {
      "text/html": [
       "<table class=\"dataframe\">\n",
       "<caption>A data.frame: 6 × 74</caption>\n",
       "<thead>\n",
       "\t<tr><th></th><th scope=col>orig.ident</th><th scope=col>nCount_RNA</th><th scope=col>nFeature_RNA</th><th scope=col>barcodes</th><th scope=col>adt_qc_flag</th><th scope=col>adt_umis</th><th scope=col>batch_id</th><th scope=col>cell_name</th><th scope=col>chip_id</th><th scope=col>hto_barcode</th><th scope=col>⋯</th><th scope=col>CMV</th><th scope=col>subject_id</th><th scope=col>age_cmv</th><th scope=col>nCount_clean_gex</th><th scope=col>nFeature_clean_gex</th><th scope=col>nCount_clean_adt</th><th scope=col>nFeature_clean_adt</th><th scope=col>SCT.weight</th><th scope=col>clean_adt.weight</th><th scope=col>Tiles.weight</th></tr>\n",
       "\t<tr><th></th><th scope=col>&lt;chr&gt;</th><th scope=col>&lt;dbl&gt;</th><th scope=col>&lt;int&gt;</th><th scope=col>&lt;chr&gt;</th><th scope=col>&lt;chr&gt;</th><th scope=col>&lt;int&gt;</th><th scope=col>&lt;chr&gt;</th><th scope=col>&lt;chr&gt;</th><th scope=col>&lt;chr&gt;</th><th scope=col>&lt;chr&gt;</th><th scope=col>⋯</th><th scope=col>&lt;fct&gt;</th><th scope=col>&lt;fct&gt;</th><th scope=col>&lt;chr&gt;</th><th scope=col>&lt;dbl&gt;</th><th scope=col>&lt;int&gt;</th><th scope=col>&lt;dbl&gt;</th><th scope=col>&lt;int&gt;</th><th scope=col>&lt;dbl&gt;</th><th scope=col>&lt;dbl&gt;</th><th scope=col>&lt;dbl&gt;</th></tr>\n",
       "</thead>\n",
       "<tbody>\n",
       "\t<tr><th scope=row>8ff31584e84e11ebac5942010a19c839</th><td>SeuratProject</td><td> 3838</td><td>1868</td><td>8ff31584e84e11ebac5942010a19c839</td><td>Good</td><td>2901</td><td>B076</td><td>vulcanian_economic_whelp     </td><td>B076-P1C1</td><td>CTCCTCTGCAATTAC</td><td>⋯</td><td>Positive</td><td>UP1001</td><td>Pediatric_CMV-Positive</td><td> 3833</td><td>1866</td><td>2712</td><td>37</td><td>0.9054187</td><td>2.719901e-02</td><td>6.738231e-02</td></tr>\n",
       "\t<tr><th scope=row>682dcba2e84e11eb975f42010a19c839</th><td>SeuratProject</td><td> 4416</td><td>1934</td><td>682dcba2e84e11eb975f42010a19c839</td><td>Good</td><td>4040</td><td>B076</td><td>occasional_final_drongo      </td><td>B076-P1C1</td><td>CTCCTCTGCAATTAC</td><td>⋯</td><td>Positive</td><td>UP1001</td><td>Pediatric_CMV-Positive</td><td> 4413</td><td>1932</td><td>3701</td><td>35</td><td>0.9999102</td><td>7.899506e-05</td><td>1.081362e-05</td></tr>\n",
       "\t<tr><th scope=row>0ff9ba76e84f11eb915942010a19c839</th><td>SeuratProject</td><td> 8643</td><td>3197</td><td>0ff9ba76e84f11eb915942010a19c839</td><td>Good</td><td>2859</td><td>B076</td><td>diagnostic_repayable_porpoise</td><td>B076-P1C2</td><td>CTCCTCTGCAATTAC</td><td>⋯</td><td>Positive</td><td>UP1001</td><td>Pediatric_CMV-Positive</td><td> 8638</td><td>3195</td><td>2691</td><td>36</td><td>0.7058793</td><td>1.444748e-01</td><td>1.496458e-01</td></tr>\n",
       "\t<tr><th scope=row>c1f529e6e84e11eb909942010a19c839</th><td>SeuratProject</td><td>19523</td><td>4902</td><td>c1f529e6e84e11eb909942010a19c839</td><td>Good</td><td>4145</td><td>B076</td><td>mean_postal_gourami          </td><td>B076-P1C2</td><td>CTCCTCTGCAATTAC</td><td>⋯</td><td>Positive</td><td>UP1001</td><td>Pediatric_CMV-Positive</td><td>19507</td><td>4900</td><td>3988</td><td>38</td><td>0.2565166</td><td>2.757653e-01</td><td>4.677182e-01</td></tr>\n",
       "\t<tr><th scope=row>8551ed4ee84e11eb8a7c42010a19c839</th><td>SeuratProject</td><td> 7758</td><td>3180</td><td>8551ed4ee84e11eb8a7c42010a19c839</td><td>Good</td><td>1670</td><td>B076</td><td>lowfat_pelage_aracari        </td><td>B076-P1C1</td><td>CTCCTCTGCAATTAC</td><td>⋯</td><td>Positive</td><td>UP1001</td><td>Pediatric_CMV-Positive</td><td> 7752</td><td>3178</td><td>1535</td><td>37</td><td>0.1834026</td><td>1.923982e-01</td><td>6.241992e-01</td></tr>\n",
       "\t<tr><th scope=row>679178bae84e11eb975f42010a19c839</th><td>SeuratProject</td><td> 5114</td><td>2364</td><td>679178bae84e11eb975f42010a19c839</td><td>Good</td><td>2293</td><td>B076</td><td>muscovite_pegmatite_beagle   </td><td>B076-P1C1</td><td>CTCCTCTGCAATTAC</td><td>⋯</td><td>Positive</td><td>UP1001</td><td>Pediatric_CMV-Positive</td><td> 5113</td><td>2363</td><td>2161</td><td>36</td><td>0.1447526</td><td>2.035559e-01</td><td>6.516916e-01</td></tr>\n",
       "</tbody>\n",
       "</table>\n"
      ],
      "text/latex": [
       "A data.frame: 6 × 74\n",
       "\\begin{tabular}{r|lllllllllllllllllllll}\n",
       "  & orig.ident & nCount\\_RNA & nFeature\\_RNA & barcodes & adt\\_qc\\_flag & adt\\_umis & batch\\_id & cell\\_name & chip\\_id & hto\\_barcode & ⋯ & CMV & subject\\_id & age\\_cmv & nCount\\_clean\\_gex & nFeature\\_clean\\_gex & nCount\\_clean\\_adt & nFeature\\_clean\\_adt & SCT.weight & clean\\_adt.weight & Tiles.weight\\\\\n",
       "  & <chr> & <dbl> & <int> & <chr> & <chr> & <int> & <chr> & <chr> & <chr> & <chr> & ⋯ & <fct> & <fct> & <chr> & <dbl> & <int> & <dbl> & <int> & <dbl> & <dbl> & <dbl>\\\\\n",
       "\\hline\n",
       "\t8ff31584e84e11ebac5942010a19c839 & SeuratProject &  3838 & 1868 & 8ff31584e84e11ebac5942010a19c839 & Good & 2901 & B076 & vulcanian\\_economic\\_whelp      & B076-P1C1 & CTCCTCTGCAATTAC & ⋯ & Positive & UP1001 & Pediatric\\_CMV-Positive &  3833 & 1866 & 2712 & 37 & 0.9054187 & 2.719901e-02 & 6.738231e-02\\\\\n",
       "\t682dcba2e84e11eb975f42010a19c839 & SeuratProject &  4416 & 1934 & 682dcba2e84e11eb975f42010a19c839 & Good & 4040 & B076 & occasional\\_final\\_drongo       & B076-P1C1 & CTCCTCTGCAATTAC & ⋯ & Positive & UP1001 & Pediatric\\_CMV-Positive &  4413 & 1932 & 3701 & 35 & 0.9999102 & 7.899506e-05 & 1.081362e-05\\\\\n",
       "\t0ff9ba76e84f11eb915942010a19c839 & SeuratProject &  8643 & 3197 & 0ff9ba76e84f11eb915942010a19c839 & Good & 2859 & B076 & diagnostic\\_repayable\\_porpoise & B076-P1C2 & CTCCTCTGCAATTAC & ⋯ & Positive & UP1001 & Pediatric\\_CMV-Positive &  8638 & 3195 & 2691 & 36 & 0.7058793 & 1.444748e-01 & 1.496458e-01\\\\\n",
       "\tc1f529e6e84e11eb909942010a19c839 & SeuratProject & 19523 & 4902 & c1f529e6e84e11eb909942010a19c839 & Good & 4145 & B076 & mean\\_postal\\_gourami           & B076-P1C2 & CTCCTCTGCAATTAC & ⋯ & Positive & UP1001 & Pediatric\\_CMV-Positive & 19507 & 4900 & 3988 & 38 & 0.2565166 & 2.757653e-01 & 4.677182e-01\\\\\n",
       "\t8551ed4ee84e11eb8a7c42010a19c839 & SeuratProject &  7758 & 3180 & 8551ed4ee84e11eb8a7c42010a19c839 & Good & 1670 & B076 & lowfat\\_pelage\\_aracari         & B076-P1C1 & CTCCTCTGCAATTAC & ⋯ & Positive & UP1001 & Pediatric\\_CMV-Positive &  7752 & 3178 & 1535 & 37 & 0.1834026 & 1.923982e-01 & 6.241992e-01\\\\\n",
       "\t679178bae84e11eb975f42010a19c839 & SeuratProject &  5114 & 2364 & 679178bae84e11eb975f42010a19c839 & Good & 2293 & B076 & muscovite\\_pegmatite\\_beagle    & B076-P1C1 & CTCCTCTGCAATTAC & ⋯ & Positive & UP1001 & Pediatric\\_CMV-Positive &  5113 & 2363 & 2161 & 36 & 0.1447526 & 2.035559e-01 & 6.516916e-01\\\\\n",
       "\\end{tabular}\n"
      ],
      "text/markdown": [
       "\n",
       "A data.frame: 6 × 74\n",
       "\n",
       "| <!--/--> | orig.ident &lt;chr&gt; | nCount_RNA &lt;dbl&gt; | nFeature_RNA &lt;int&gt; | barcodes &lt;chr&gt; | adt_qc_flag &lt;chr&gt; | adt_umis &lt;int&gt; | batch_id &lt;chr&gt; | cell_name &lt;chr&gt; | chip_id &lt;chr&gt; | hto_barcode &lt;chr&gt; | ⋯ ⋯ | CMV &lt;fct&gt; | subject_id &lt;fct&gt; | age_cmv &lt;chr&gt; | nCount_clean_gex &lt;dbl&gt; | nFeature_clean_gex &lt;int&gt; | nCount_clean_adt &lt;dbl&gt; | nFeature_clean_adt &lt;int&gt; | SCT.weight &lt;dbl&gt; | clean_adt.weight &lt;dbl&gt; | Tiles.weight &lt;dbl&gt; |\n",
       "|---|---|---|---|---|---|---|---|---|---|---|---|---|---|---|---|---|---|---|---|---|---|\n",
       "| 8ff31584e84e11ebac5942010a19c839 | SeuratProject |  3838 | 1868 | 8ff31584e84e11ebac5942010a19c839 | Good | 2901 | B076 | vulcanian_economic_whelp      | B076-P1C1 | CTCCTCTGCAATTAC | ⋯ | Positive | UP1001 | Pediatric_CMV-Positive |  3833 | 1866 | 2712 | 37 | 0.9054187 | 2.719901e-02 | 6.738231e-02 |\n",
       "| 682dcba2e84e11eb975f42010a19c839 | SeuratProject |  4416 | 1934 | 682dcba2e84e11eb975f42010a19c839 | Good | 4040 | B076 | occasional_final_drongo       | B076-P1C1 | CTCCTCTGCAATTAC | ⋯ | Positive | UP1001 | Pediatric_CMV-Positive |  4413 | 1932 | 3701 | 35 | 0.9999102 | 7.899506e-05 | 1.081362e-05 |\n",
       "| 0ff9ba76e84f11eb915942010a19c839 | SeuratProject |  8643 | 3197 | 0ff9ba76e84f11eb915942010a19c839 | Good | 2859 | B076 | diagnostic_repayable_porpoise | B076-P1C2 | CTCCTCTGCAATTAC | ⋯ | Positive | UP1001 | Pediatric_CMV-Positive |  8638 | 3195 | 2691 | 36 | 0.7058793 | 1.444748e-01 | 1.496458e-01 |\n",
       "| c1f529e6e84e11eb909942010a19c839 | SeuratProject | 19523 | 4902 | c1f529e6e84e11eb909942010a19c839 | Good | 4145 | B076 | mean_postal_gourami           | B076-P1C2 | CTCCTCTGCAATTAC | ⋯ | Positive | UP1001 | Pediatric_CMV-Positive | 19507 | 4900 | 3988 | 38 | 0.2565166 | 2.757653e-01 | 4.677182e-01 |\n",
       "| 8551ed4ee84e11eb8a7c42010a19c839 | SeuratProject |  7758 | 3180 | 8551ed4ee84e11eb8a7c42010a19c839 | Good | 1670 | B076 | lowfat_pelage_aracari         | B076-P1C1 | CTCCTCTGCAATTAC | ⋯ | Positive | UP1001 | Pediatric_CMV-Positive |  7752 | 3178 | 1535 | 37 | 0.1834026 | 1.923982e-01 | 6.241992e-01 |\n",
       "| 679178bae84e11eb975f42010a19c839 | SeuratProject |  5114 | 2364 | 679178bae84e11eb975f42010a19c839 | Good | 2293 | B076 | muscovite_pegmatite_beagle    | B076-P1C1 | CTCCTCTGCAATTAC | ⋯ | Positive | UP1001 | Pediatric_CMV-Positive |  5113 | 2363 | 2161 | 36 | 0.1447526 | 2.035559e-01 | 6.516916e-01 |\n",
       "\n"
      ],
      "text/plain": [
       "                                 orig.ident    nCount_RNA nFeature_RNA\n",
       "8ff31584e84e11ebac5942010a19c839 SeuratProject  3838      1868        \n",
       "682dcba2e84e11eb975f42010a19c839 SeuratProject  4416      1934        \n",
       "0ff9ba76e84f11eb915942010a19c839 SeuratProject  8643      3197        \n",
       "c1f529e6e84e11eb909942010a19c839 SeuratProject 19523      4902        \n",
       "8551ed4ee84e11eb8a7c42010a19c839 SeuratProject  7758      3180        \n",
       "679178bae84e11eb975f42010a19c839 SeuratProject  5114      2364        \n",
       "                                 barcodes                         adt_qc_flag\n",
       "8ff31584e84e11ebac5942010a19c839 8ff31584e84e11ebac5942010a19c839 Good       \n",
       "682dcba2e84e11eb975f42010a19c839 682dcba2e84e11eb975f42010a19c839 Good       \n",
       "0ff9ba76e84f11eb915942010a19c839 0ff9ba76e84f11eb915942010a19c839 Good       \n",
       "c1f529e6e84e11eb909942010a19c839 c1f529e6e84e11eb909942010a19c839 Good       \n",
       "8551ed4ee84e11eb8a7c42010a19c839 8551ed4ee84e11eb8a7c42010a19c839 Good       \n",
       "679178bae84e11eb975f42010a19c839 679178bae84e11eb975f42010a19c839 Good       \n",
       "                                 adt_umis batch_id\n",
       "8ff31584e84e11ebac5942010a19c839 2901     B076    \n",
       "682dcba2e84e11eb975f42010a19c839 4040     B076    \n",
       "0ff9ba76e84f11eb915942010a19c839 2859     B076    \n",
       "c1f529e6e84e11eb909942010a19c839 4145     B076    \n",
       "8551ed4ee84e11eb8a7c42010a19c839 1670     B076    \n",
       "679178bae84e11eb975f42010a19c839 2293     B076    \n",
       "                                 cell_name                     chip_id  \n",
       "8ff31584e84e11ebac5942010a19c839 vulcanian_economic_whelp      B076-P1C1\n",
       "682dcba2e84e11eb975f42010a19c839 occasional_final_drongo       B076-P1C1\n",
       "0ff9ba76e84f11eb915942010a19c839 diagnostic_repayable_porpoise B076-P1C2\n",
       "c1f529e6e84e11eb909942010a19c839 mean_postal_gourami           B076-P1C2\n",
       "8551ed4ee84e11eb8a7c42010a19c839 lowfat_pelage_aracari         B076-P1C1\n",
       "679178bae84e11eb975f42010a19c839 muscovite_pegmatite_beagle    B076-P1C1\n",
       "                                 hto_barcode     ⋯ CMV      subject_id\n",
       "8ff31584e84e11ebac5942010a19c839 CTCCTCTGCAATTAC ⋯ Positive UP1001    \n",
       "682dcba2e84e11eb975f42010a19c839 CTCCTCTGCAATTAC ⋯ Positive UP1001    \n",
       "0ff9ba76e84f11eb915942010a19c839 CTCCTCTGCAATTAC ⋯ Positive UP1001    \n",
       "c1f529e6e84e11eb909942010a19c839 CTCCTCTGCAATTAC ⋯ Positive UP1001    \n",
       "8551ed4ee84e11eb8a7c42010a19c839 CTCCTCTGCAATTAC ⋯ Positive UP1001    \n",
       "679178bae84e11eb975f42010a19c839 CTCCTCTGCAATTAC ⋯ Positive UP1001    \n",
       "                                 age_cmv                nCount_clean_gex\n",
       "8ff31584e84e11ebac5942010a19c839 Pediatric_CMV-Positive  3833           \n",
       "682dcba2e84e11eb975f42010a19c839 Pediatric_CMV-Positive  4413           \n",
       "0ff9ba76e84f11eb915942010a19c839 Pediatric_CMV-Positive  8638           \n",
       "c1f529e6e84e11eb909942010a19c839 Pediatric_CMV-Positive 19507           \n",
       "8551ed4ee84e11eb8a7c42010a19c839 Pediatric_CMV-Positive  7752           \n",
       "679178bae84e11eb975f42010a19c839 Pediatric_CMV-Positive  5113           \n",
       "                                 nFeature_clean_gex nCount_clean_adt\n",
       "8ff31584e84e11ebac5942010a19c839 1866               2712            \n",
       "682dcba2e84e11eb975f42010a19c839 1932               3701            \n",
       "0ff9ba76e84f11eb915942010a19c839 3195               2691            \n",
       "c1f529e6e84e11eb909942010a19c839 4900               3988            \n",
       "8551ed4ee84e11eb8a7c42010a19c839 3178               1535            \n",
       "679178bae84e11eb975f42010a19c839 2363               2161            \n",
       "                                 nFeature_clean_adt SCT.weight clean_adt.weight\n",
       "8ff31584e84e11ebac5942010a19c839 37                 0.9054187  2.719901e-02    \n",
       "682dcba2e84e11eb975f42010a19c839 35                 0.9999102  7.899506e-05    \n",
       "0ff9ba76e84f11eb915942010a19c839 36                 0.7058793  1.444748e-01    \n",
       "c1f529e6e84e11eb909942010a19c839 38                 0.2565166  2.757653e-01    \n",
       "8551ed4ee84e11eb8a7c42010a19c839 37                 0.1834026  1.923982e-01    \n",
       "679178bae84e11eb975f42010a19c839 36                 0.1447526  2.035559e-01    \n",
       "                                 Tiles.weight\n",
       "8ff31584e84e11ebac5942010a19c839 6.738231e-02\n",
       "682dcba2e84e11eb975f42010a19c839 1.081362e-05\n",
       "0ff9ba76e84f11eb915942010a19c839 1.496458e-01\n",
       "c1f529e6e84e11eb909942010a19c839 4.677182e-01\n",
       "8551ed4ee84e11eb8a7c42010a19c839 6.241992e-01\n",
       "679178bae84e11eb975f42010a19c839 6.516916e-01"
      ]
     },
     "metadata": {},
     "output_type": "display_data"
    },
    {
     "data": {
      "text/html": [
       "<style>\n",
       ".list-inline {list-style: none; margin:0; padding: 0}\n",
       ".list-inline>li {display: inline-block}\n",
       ".list-inline>li:not(:last-child)::after {content: \"\\00b7\"; padding: 0 .5ex}\n",
       "</style>\n",
       "<ol class=list-inline><li>'8ff31584e84e11ebac5942010a19c839'</li><li>'682dcba2e84e11eb975f42010a19c839'</li><li>'0ff9ba76e84f11eb915942010a19c839'</li><li>'c1f529e6e84e11eb909942010a19c839'</li><li>'8551ed4ee84e11eb8a7c42010a19c839'</li><li>'679178bae84e11eb975f42010a19c839'</li></ol>\n"
      ],
      "text/latex": [
       "\\begin{enumerate*}\n",
       "\\item '8ff31584e84e11ebac5942010a19c839'\n",
       "\\item '682dcba2e84e11eb975f42010a19c839'\n",
       "\\item '0ff9ba76e84f11eb915942010a19c839'\n",
       "\\item 'c1f529e6e84e11eb909942010a19c839'\n",
       "\\item '8551ed4ee84e11eb8a7c42010a19c839'\n",
       "\\item '679178bae84e11eb975f42010a19c839'\n",
       "\\end{enumerate*}\n"
      ],
      "text/markdown": [
       "1. '8ff31584e84e11ebac5942010a19c839'\n",
       "2. '682dcba2e84e11eb975f42010a19c839'\n",
       "3. '0ff9ba76e84f11eb915942010a19c839'\n",
       "4. 'c1f529e6e84e11eb909942010a19c839'\n",
       "5. '8551ed4ee84e11eb8a7c42010a19c839'\n",
       "6. '679178bae84e11eb975f42010a19c839'\n",
       "\n",
       "\n"
      ],
      "text/plain": [
       "[1] \"8ff31584e84e11ebac5942010a19c839\" \"682dcba2e84e11eb975f42010a19c839\"\n",
       "[3] \"0ff9ba76e84f11eb915942010a19c839\" \"c1f529e6e84e11eb909942010a19c839\"\n",
       "[5] \"8551ed4ee84e11eb8a7c42010a19c839\" \"679178bae84e11eb975f42010a19c839\""
      ]
     },
     "metadata": {},
     "output_type": "display_data"
    }
   ],
   "source": [
    "head(rna_metadata)\n",
    "head(proj_subset$cellNames_clean)"
   ]
  },
  {
   "cell_type": "code",
   "execution_count": 21,
   "metadata": {},
   "outputs": [
    {
     "data": {
      "text/plain": [
       "\n",
       "  TRUE \n",
       "273866 "
      ]
     },
     "metadata": {},
     "output_type": "display_data"
    }
   ],
   "source": [
    "# check re-aligned barcodes - should be all true\n",
    "table(proj_subset$cellNames_clean == rownames(rna_metadata))"
   ]
  },
  {
   "cell_type": "markdown",
   "metadata": {},
   "source": [
    "### Add metadata"
   ]
  },
  {
   "cell_type": "code",
   "execution_count": 22,
   "metadata": {},
   "outputs": [
    {
     "data": {
      "text/html": [
       "<style>\n",
       ".list-inline {list-style: none; margin:0; padding: 0}\n",
       ".list-inline>li {display: inline-block}\n",
       ".list-inline>li:not(:last-child)::after {content: \"\\00b7\"; padding: 0 .5ex}\n",
       "</style>\n",
       "<ol class=list-inline><li>'orig.ident'</li><li>'nCount_RNA'</li><li>'nFeature_RNA'</li><li>'barcodes'</li><li>'adt_qc_flag'</li><li>'adt_umis'</li><li>'batch_id'</li><li>'cell_name'</li><li>'chip_id'</li><li>'hto_barcode'</li><li>'hto_category'</li><li>'n_genes'</li><li>'n_mito_umis'</li><li>'n_reads'</li><li>'n_umis'</li><li>'original_barcodes'</li><li>'pbmc_sample_id'</li><li>'pool_id'</li><li>'rna_cell_uuid'</li><li>'seurat_pbmc_type'</li><li>'seurat_pbmc_type_score'</li><li>'umap_1'</li><li>'umap_2'</li><li>'well_id'</li><li>'nCount_ADT'</li><li>'nFeature_ADT'</li><li>'nCount_Tiles'</li><li>'nFeature_Tiles'</li><li>'percent.mt'</li><li>'nCount_SCT'</li><li>'nFeature_SCT'</li><li>'SCT_snn_res.0.5'</li><li>'seurat_clusters'</li><li>'predicted.celltype.l1.score'</li><li>'predicted.celltype.l1'</li><li>'predicted.celltype.l2.score'</li><li>'predicted.celltype.l2'</li><li>'predicted.celltype.l3.score'</li><li>'predicted.celltype.l3'</li><li>'predicted.t_celltype.l1.score'</li><li>'predicted.t_celltype.l1'</li><li>'predicted.t_celltype.l2.score'</li><li>'predicted.t_celltype.l2'</li><li>'predicted.t_celltype.l3.score'</li><li>'predicted.t_celltype.l3'</li><li>'pediatric_senior'</li><li>'celltype_l0'</li><li>'nCount_prediction.score.celltype.l1'</li><li>'nFeature_prediction.score.celltype.l1'</li><li>'nCount_prediction.score.celltype.l2'</li><li>'nFeature_prediction.score.celltype.l2'</li><li>'nCount_prediction.score.celltype.l3'</li><li>'nFeature_prediction.score.celltype.l3'</li><li>'nCount_predicted_ADT'</li><li>'nFeature_predicted_ADT'</li><li>'nCount_prediction.score.t_celltype.l1'</li><li>'nFeature_prediction.score.t_celltype.l1'</li><li>'nCount_prediction.score.t_celltype.l2'</li><li>'nFeature_prediction.score.t_celltype.l2'</li><li>'nCount_prediction.score.t_celltype.l3'</li><li>'nFeature_prediction.score.t_celltype.l3'</li><li>'nCount_x10_ADT'</li><li>'nFeature_x10_ADT'</li><li>'gating_celltype'</li><li>'CMV'</li><li>'subject_id'</li><li>'age_cmv'</li><li>'nCount_clean_gex'</li><li>'nFeature_clean_gex'</li><li>'nCount_clean_adt'</li><li>'nFeature_clean_adt'</li><li>'SCT.weight'</li><li>'clean_adt.weight'</li><li>'Tiles.weight'</li></ol>\n"
      ],
      "text/latex": [
       "\\begin{enumerate*}\n",
       "\\item 'orig.ident'\n",
       "\\item 'nCount\\_RNA'\n",
       "\\item 'nFeature\\_RNA'\n",
       "\\item 'barcodes'\n",
       "\\item 'adt\\_qc\\_flag'\n",
       "\\item 'adt\\_umis'\n",
       "\\item 'batch\\_id'\n",
       "\\item 'cell\\_name'\n",
       "\\item 'chip\\_id'\n",
       "\\item 'hto\\_barcode'\n",
       "\\item 'hto\\_category'\n",
       "\\item 'n\\_genes'\n",
       "\\item 'n\\_mito\\_umis'\n",
       "\\item 'n\\_reads'\n",
       "\\item 'n\\_umis'\n",
       "\\item 'original\\_barcodes'\n",
       "\\item 'pbmc\\_sample\\_id'\n",
       "\\item 'pool\\_id'\n",
       "\\item 'rna\\_cell\\_uuid'\n",
       "\\item 'seurat\\_pbmc\\_type'\n",
       "\\item 'seurat\\_pbmc\\_type\\_score'\n",
       "\\item 'umap\\_1'\n",
       "\\item 'umap\\_2'\n",
       "\\item 'well\\_id'\n",
       "\\item 'nCount\\_ADT'\n",
       "\\item 'nFeature\\_ADT'\n",
       "\\item 'nCount\\_Tiles'\n",
       "\\item 'nFeature\\_Tiles'\n",
       "\\item 'percent.mt'\n",
       "\\item 'nCount\\_SCT'\n",
       "\\item 'nFeature\\_SCT'\n",
       "\\item 'SCT\\_snn\\_res.0.5'\n",
       "\\item 'seurat\\_clusters'\n",
       "\\item 'predicted.celltype.l1.score'\n",
       "\\item 'predicted.celltype.l1'\n",
       "\\item 'predicted.celltype.l2.score'\n",
       "\\item 'predicted.celltype.l2'\n",
       "\\item 'predicted.celltype.l3.score'\n",
       "\\item 'predicted.celltype.l3'\n",
       "\\item 'predicted.t\\_celltype.l1.score'\n",
       "\\item 'predicted.t\\_celltype.l1'\n",
       "\\item 'predicted.t\\_celltype.l2.score'\n",
       "\\item 'predicted.t\\_celltype.l2'\n",
       "\\item 'predicted.t\\_celltype.l3.score'\n",
       "\\item 'predicted.t\\_celltype.l3'\n",
       "\\item 'pediatric\\_senior'\n",
       "\\item 'celltype\\_l0'\n",
       "\\item 'nCount\\_prediction.score.celltype.l1'\n",
       "\\item 'nFeature\\_prediction.score.celltype.l1'\n",
       "\\item 'nCount\\_prediction.score.celltype.l2'\n",
       "\\item 'nFeature\\_prediction.score.celltype.l2'\n",
       "\\item 'nCount\\_prediction.score.celltype.l3'\n",
       "\\item 'nFeature\\_prediction.score.celltype.l3'\n",
       "\\item 'nCount\\_predicted\\_ADT'\n",
       "\\item 'nFeature\\_predicted\\_ADT'\n",
       "\\item 'nCount\\_prediction.score.t\\_celltype.l1'\n",
       "\\item 'nFeature\\_prediction.score.t\\_celltype.l1'\n",
       "\\item 'nCount\\_prediction.score.t\\_celltype.l2'\n",
       "\\item 'nFeature\\_prediction.score.t\\_celltype.l2'\n",
       "\\item 'nCount\\_prediction.score.t\\_celltype.l3'\n",
       "\\item 'nFeature\\_prediction.score.t\\_celltype.l3'\n",
       "\\item 'nCount\\_x10\\_ADT'\n",
       "\\item 'nFeature\\_x10\\_ADT'\n",
       "\\item 'gating\\_celltype'\n",
       "\\item 'CMV'\n",
       "\\item 'subject\\_id'\n",
       "\\item 'age\\_cmv'\n",
       "\\item 'nCount\\_clean\\_gex'\n",
       "\\item 'nFeature\\_clean\\_gex'\n",
       "\\item 'nCount\\_clean\\_adt'\n",
       "\\item 'nFeature\\_clean\\_adt'\n",
       "\\item 'SCT.weight'\n",
       "\\item 'clean\\_adt.weight'\n",
       "\\item 'Tiles.weight'\n",
       "\\end{enumerate*}\n"
      ],
      "text/markdown": [
       "1. 'orig.ident'\n",
       "2. 'nCount_RNA'\n",
       "3. 'nFeature_RNA'\n",
       "4. 'barcodes'\n",
       "5. 'adt_qc_flag'\n",
       "6. 'adt_umis'\n",
       "7. 'batch_id'\n",
       "8. 'cell_name'\n",
       "9. 'chip_id'\n",
       "10. 'hto_barcode'\n",
       "11. 'hto_category'\n",
       "12. 'n_genes'\n",
       "13. 'n_mito_umis'\n",
       "14. 'n_reads'\n",
       "15. 'n_umis'\n",
       "16. 'original_barcodes'\n",
       "17. 'pbmc_sample_id'\n",
       "18. 'pool_id'\n",
       "19. 'rna_cell_uuid'\n",
       "20. 'seurat_pbmc_type'\n",
       "21. 'seurat_pbmc_type_score'\n",
       "22. 'umap_1'\n",
       "23. 'umap_2'\n",
       "24. 'well_id'\n",
       "25. 'nCount_ADT'\n",
       "26. 'nFeature_ADT'\n",
       "27. 'nCount_Tiles'\n",
       "28. 'nFeature_Tiles'\n",
       "29. 'percent.mt'\n",
       "30. 'nCount_SCT'\n",
       "31. 'nFeature_SCT'\n",
       "32. 'SCT_snn_res.0.5'\n",
       "33. 'seurat_clusters'\n",
       "34. 'predicted.celltype.l1.score'\n",
       "35. 'predicted.celltype.l1'\n",
       "36. 'predicted.celltype.l2.score'\n",
       "37. 'predicted.celltype.l2'\n",
       "38. 'predicted.celltype.l3.score'\n",
       "39. 'predicted.celltype.l3'\n",
       "40. 'predicted.t_celltype.l1.score'\n",
       "41. 'predicted.t_celltype.l1'\n",
       "42. 'predicted.t_celltype.l2.score'\n",
       "43. 'predicted.t_celltype.l2'\n",
       "44. 'predicted.t_celltype.l3.score'\n",
       "45. 'predicted.t_celltype.l3'\n",
       "46. 'pediatric_senior'\n",
       "47. 'celltype_l0'\n",
       "48. 'nCount_prediction.score.celltype.l1'\n",
       "49. 'nFeature_prediction.score.celltype.l1'\n",
       "50. 'nCount_prediction.score.celltype.l2'\n",
       "51. 'nFeature_prediction.score.celltype.l2'\n",
       "52. 'nCount_prediction.score.celltype.l3'\n",
       "53. 'nFeature_prediction.score.celltype.l3'\n",
       "54. 'nCount_predicted_ADT'\n",
       "55. 'nFeature_predicted_ADT'\n",
       "56. 'nCount_prediction.score.t_celltype.l1'\n",
       "57. 'nFeature_prediction.score.t_celltype.l1'\n",
       "58. 'nCount_prediction.score.t_celltype.l2'\n",
       "59. 'nFeature_prediction.score.t_celltype.l2'\n",
       "60. 'nCount_prediction.score.t_celltype.l3'\n",
       "61. 'nFeature_prediction.score.t_celltype.l3'\n",
       "62. 'nCount_x10_ADT'\n",
       "63. 'nFeature_x10_ADT'\n",
       "64. 'gating_celltype'\n",
       "65. 'CMV'\n",
       "66. 'subject_id'\n",
       "67. 'age_cmv'\n",
       "68. 'nCount_clean_gex'\n",
       "69. 'nFeature_clean_gex'\n",
       "70. 'nCount_clean_adt'\n",
       "71. 'nFeature_clean_adt'\n",
       "72. 'SCT.weight'\n",
       "73. 'clean_adt.weight'\n",
       "74. 'Tiles.weight'\n",
       "\n",
       "\n"
      ],
      "text/plain": [
       " [1] \"orig.ident\"                             \n",
       " [2] \"nCount_RNA\"                             \n",
       " [3] \"nFeature_RNA\"                           \n",
       " [4] \"barcodes\"                               \n",
       " [5] \"adt_qc_flag\"                            \n",
       " [6] \"adt_umis\"                               \n",
       " [7] \"batch_id\"                               \n",
       " [8] \"cell_name\"                              \n",
       " [9] \"chip_id\"                                \n",
       "[10] \"hto_barcode\"                            \n",
       "[11] \"hto_category\"                           \n",
       "[12] \"n_genes\"                                \n",
       "[13] \"n_mito_umis\"                            \n",
       "[14] \"n_reads\"                                \n",
       "[15] \"n_umis\"                                 \n",
       "[16] \"original_barcodes\"                      \n",
       "[17] \"pbmc_sample_id\"                         \n",
       "[18] \"pool_id\"                                \n",
       "[19] \"rna_cell_uuid\"                          \n",
       "[20] \"seurat_pbmc_type\"                       \n",
       "[21] \"seurat_pbmc_type_score\"                 \n",
       "[22] \"umap_1\"                                 \n",
       "[23] \"umap_2\"                                 \n",
       "[24] \"well_id\"                                \n",
       "[25] \"nCount_ADT\"                             \n",
       "[26] \"nFeature_ADT\"                           \n",
       "[27] \"nCount_Tiles\"                           \n",
       "[28] \"nFeature_Tiles\"                         \n",
       "[29] \"percent.mt\"                             \n",
       "[30] \"nCount_SCT\"                             \n",
       "[31] \"nFeature_SCT\"                           \n",
       "[32] \"SCT_snn_res.0.5\"                        \n",
       "[33] \"seurat_clusters\"                        \n",
       "[34] \"predicted.celltype.l1.score\"            \n",
       "[35] \"predicted.celltype.l1\"                  \n",
       "[36] \"predicted.celltype.l2.score\"            \n",
       "[37] \"predicted.celltype.l2\"                  \n",
       "[38] \"predicted.celltype.l3.score\"            \n",
       "[39] \"predicted.celltype.l3\"                  \n",
       "[40] \"predicted.t_celltype.l1.score\"          \n",
       "[41] \"predicted.t_celltype.l1\"                \n",
       "[42] \"predicted.t_celltype.l2.score\"          \n",
       "[43] \"predicted.t_celltype.l2\"                \n",
       "[44] \"predicted.t_celltype.l3.score\"          \n",
       "[45] \"predicted.t_celltype.l3\"                \n",
       "[46] \"pediatric_senior\"                       \n",
       "[47] \"celltype_l0\"                            \n",
       "[48] \"nCount_prediction.score.celltype.l1\"    \n",
       "[49] \"nFeature_prediction.score.celltype.l1\"  \n",
       "[50] \"nCount_prediction.score.celltype.l2\"    \n",
       "[51] \"nFeature_prediction.score.celltype.l2\"  \n",
       "[52] \"nCount_prediction.score.celltype.l3\"    \n",
       "[53] \"nFeature_prediction.score.celltype.l3\"  \n",
       "[54] \"nCount_predicted_ADT\"                   \n",
       "[55] \"nFeature_predicted_ADT\"                 \n",
       "[56] \"nCount_prediction.score.t_celltype.l1\"  \n",
       "[57] \"nFeature_prediction.score.t_celltype.l1\"\n",
       "[58] \"nCount_prediction.score.t_celltype.l2\"  \n",
       "[59] \"nFeature_prediction.score.t_celltype.l2\"\n",
       "[60] \"nCount_prediction.score.t_celltype.l3\"  \n",
       "[61] \"nFeature_prediction.score.t_celltype.l3\"\n",
       "[62] \"nCount_x10_ADT\"                         \n",
       "[63] \"nFeature_x10_ADT\"                       \n",
       "[64] \"gating_celltype\"                        \n",
       "[65] \"CMV\"                                    \n",
       "[66] \"subject_id\"                             \n",
       "[67] \"age_cmv\"                                \n",
       "[68] \"nCount_clean_gex\"                       \n",
       "[69] \"nFeature_clean_gex\"                     \n",
       "[70] \"nCount_clean_adt\"                       \n",
       "[71] \"nFeature_clean_adt\"                     \n",
       "[72] \"SCT.weight\"                             \n",
       "[73] \"clean_adt.weight\"                       \n",
       "[74] \"Tiles.weight\"                           "
      ]
     },
     "metadata": {},
     "output_type": "display_data"
    }
   ],
   "source": [
    "colnames(rna_metadata)"
   ]
  },
  {
   "cell_type": "code",
   "execution_count": 23,
   "metadata": {},
   "outputs": [],
   "source": [
    "proj_subset$gating_celltype <- rna_metadata$gating_celltype\n",
    "proj_subset$pediatric_senior <- rna_metadata$pediatric_senior\n",
    "proj_subset$age_cmv <- rna_metadata$age_cmv\n",
    "proj_subset$predicted.t_celltype.l1 <- rna_metadata$predicted.t_celltype.l1\n",
    "proj_subset$predicted.t_celltype.l2 <- rna_metadata$predicted.t_celltype.l2\n",
    "proj_subset$predicted.t_celltype.l3 <- rna_metadata$predicted.t_celltype.l3\n",
    "proj_subset$batch_id <- rna_metadata$batch_id\n",
    "proj_subset$pbmc_sample_id <- rna_metadata$pbmc_sample_id"
   ]
  },
  {
   "cell_type": "markdown",
   "metadata": {},
   "source": [
    "## Add Gene Expression to ArchR Project"
   ]
  },
  {
   "cell_type": "code",
   "execution_count": 24,
   "metadata": {},
   "outputs": [],
   "source": [
    "library(SingleCellExperiment)"
   ]
  },
  {
   "cell_type": "code",
   "execution_count": 25,
   "metadata": {},
   "outputs": [],
   "source": [
    "rna_mtx <- as.sparse(rna_adt_so@assays$RNA@counts)"
   ]
  },
  {
   "cell_type": "code",
   "execution_count": 26,
   "metadata": {},
   "outputs": [
    {
     "data": {
      "text/html": [
       "<style>\n",
       ".list-inline {list-style: none; margin:0; padding: 0}\n",
       ".list-inline>li {display: inline-block}\n",
       ".list-inline>li:not(:last-child)::after {content: \"\\00b7\"; padding: 0 .5ex}\n",
       "</style>\n",
       "<ol class=list-inline><li>'970c3f98e40811eba89d42010a19c839'</li><li>'971b0bd6e40811eba89d42010a19c839'</li><li>'97267fdee40811eba89d42010a19c839'</li><li>'9728e26ae40811eba89d42010a19c839'</li><li>'97475100e40811eba89d42010a19c839'</li><li>'97789738e40811eba89d42010a19c839'</li></ol>\n"
      ],
      "text/latex": [
       "\\begin{enumerate*}\n",
       "\\item '970c3f98e40811eba89d42010a19c839'\n",
       "\\item '971b0bd6e40811eba89d42010a19c839'\n",
       "\\item '97267fdee40811eba89d42010a19c839'\n",
       "\\item '9728e26ae40811eba89d42010a19c839'\n",
       "\\item '97475100e40811eba89d42010a19c839'\n",
       "\\item '97789738e40811eba89d42010a19c839'\n",
       "\\end{enumerate*}\n"
      ],
      "text/markdown": [
       "1. '970c3f98e40811eba89d42010a19c839'\n",
       "2. '971b0bd6e40811eba89d42010a19c839'\n",
       "3. '97267fdee40811eba89d42010a19c839'\n",
       "4. '9728e26ae40811eba89d42010a19c839'\n",
       "5. '97475100e40811eba89d42010a19c839'\n",
       "6. '97789738e40811eba89d42010a19c839'\n",
       "\n",
       "\n"
      ],
      "text/plain": [
       "[1] \"970c3f98e40811eba89d42010a19c839\" \"971b0bd6e40811eba89d42010a19c839\"\n",
       "[3] \"97267fdee40811eba89d42010a19c839\" \"9728e26ae40811eba89d42010a19c839\"\n",
       "[5] \"97475100e40811eba89d42010a19c839\" \"97789738e40811eba89d42010a19c839\""
      ]
     },
     "metadata": {},
     "output_type": "display_data"
    },
    {
     "data": {
      "text/html": [
       "<style>\n",
       ".list-inline {list-style: none; margin:0; padding: 0}\n",
       ".list-inline>li {display: inline-block}\n",
       ".list-inline>li:not(:last-child)::after {content: \"\\00b7\"; padding: 0 .5ex}\n",
       "</style>\n",
       "<ol class=list-inline><li>'B076-P1_PB00124-02#dcda7bf8e84e11eb939942010a19c839'</li><li>'B076-P1_PB00124-02#8ff31584e84e11ebac5942010a19c839'</li><li>'B076-P1_PB00124-02#13cd8d1ce84f11eb915942010a19c839'</li><li>'B076-P1_PB00124-02#a8a121c0e84e11eb8ae942010a19c839'</li><li>'B076-P1_PB00124-02#ab136800e84e11eb8ae942010a19c839'</li><li>'B076-P1_PB00124-02#e9c95406e84e11ebbb6c42010a19c839'</li></ol>\n"
      ],
      "text/latex": [
       "\\begin{enumerate*}\n",
       "\\item 'B076-P1\\_PB00124-02\\#dcda7bf8e84e11eb939942010a19c839'\n",
       "\\item 'B076-P1\\_PB00124-02\\#8ff31584e84e11ebac5942010a19c839'\n",
       "\\item 'B076-P1\\_PB00124-02\\#13cd8d1ce84f11eb915942010a19c839'\n",
       "\\item 'B076-P1\\_PB00124-02\\#a8a121c0e84e11eb8ae942010a19c839'\n",
       "\\item 'B076-P1\\_PB00124-02\\#ab136800e84e11eb8ae942010a19c839'\n",
       "\\item 'B076-P1\\_PB00124-02\\#e9c95406e84e11ebbb6c42010a19c839'\n",
       "\\end{enumerate*}\n"
      ],
      "text/markdown": [
       "1. 'B076-P1_PB00124-02#dcda7bf8e84e11eb939942010a19c839'\n",
       "2. 'B076-P1_PB00124-02#8ff31584e84e11ebac5942010a19c839'\n",
       "3. 'B076-P1_PB00124-02#13cd8d1ce84f11eb915942010a19c839'\n",
       "4. 'B076-P1_PB00124-02#a8a121c0e84e11eb8ae942010a19c839'\n",
       "5. 'B076-P1_PB00124-02#ab136800e84e11eb8ae942010a19c839'\n",
       "6. 'B076-P1_PB00124-02#e9c95406e84e11ebbb6c42010a19c839'\n",
       "\n",
       "\n"
      ],
      "text/plain": [
       "[1] \"B076-P1_PB00124-02#dcda7bf8e84e11eb939942010a19c839\"\n",
       "[2] \"B076-P1_PB00124-02#8ff31584e84e11ebac5942010a19c839\"\n",
       "[3] \"B076-P1_PB00124-02#13cd8d1ce84f11eb915942010a19c839\"\n",
       "[4] \"B076-P1_PB00124-02#a8a121c0e84e11eb8ae942010a19c839\"\n",
       "[5] \"B076-P1_PB00124-02#ab136800e84e11eb8ae942010a19c839\"\n",
       "[6] \"B076-P1_PB00124-02#e9c95406e84e11ebbb6c42010a19c839\""
      ]
     },
     "metadata": {},
     "output_type": "display_data"
    }
   ],
   "source": [
    "head(colnames(rna_mtx))\n",
    "head(proj$cellNames)"
   ]
  },
  {
   "cell_type": "code",
   "execution_count": 27,
   "metadata": {},
   "outputs": [
    {
     "data": {
      "text/html": [
       "<style>\n",
       ".list-inline {list-style: none; margin:0; padding: 0}\n",
       ".list-inline>li {display: inline-block}\n",
       ".list-inline>li:not(:last-child)::after {content: \"\\00b7\"; padding: 0 .5ex}\n",
       "</style>\n",
       "<ol class=list-inline><li>'B065-P1_PB00173-02#970c3f98e40811eba89d42010a19c839'</li><li>'B065-P1_PB00173-02#971b0bd6e40811eba89d42010a19c839'</li><li>'B065-P1_PB00173-02#97267fdee40811eba89d42010a19c839'</li><li>'B065-P1_PB00173-02#9728e26ae40811eba89d42010a19c839'</li><li>'B065-P1_PB00173-02#97475100e40811eba89d42010a19c839'</li><li>'B065-P1_PB00173-02#97789738e40811eba89d42010a19c839'</li></ol>\n"
      ],
      "text/latex": [
       "\\begin{enumerate*}\n",
       "\\item 'B065-P1\\_PB00173-02\\#970c3f98e40811eba89d42010a19c839'\n",
       "\\item 'B065-P1\\_PB00173-02\\#971b0bd6e40811eba89d42010a19c839'\n",
       "\\item 'B065-P1\\_PB00173-02\\#97267fdee40811eba89d42010a19c839'\n",
       "\\item 'B065-P1\\_PB00173-02\\#9728e26ae40811eba89d42010a19c839'\n",
       "\\item 'B065-P1\\_PB00173-02\\#97475100e40811eba89d42010a19c839'\n",
       "\\item 'B065-P1\\_PB00173-02\\#97789738e40811eba89d42010a19c839'\n",
       "\\end{enumerate*}\n"
      ],
      "text/markdown": [
       "1. 'B065-P1_PB00173-02#970c3f98e40811eba89d42010a19c839'\n",
       "2. 'B065-P1_PB00173-02#971b0bd6e40811eba89d42010a19c839'\n",
       "3. 'B065-P1_PB00173-02#97267fdee40811eba89d42010a19c839'\n",
       "4. 'B065-P1_PB00173-02#9728e26ae40811eba89d42010a19c839'\n",
       "5. 'B065-P1_PB00173-02#97475100e40811eba89d42010a19c839'\n",
       "6. 'B065-P1_PB00173-02#97789738e40811eba89d42010a19c839'\n",
       "\n",
       "\n"
      ],
      "text/plain": [
       "[1] \"B065-P1_PB00173-02#970c3f98e40811eba89d42010a19c839\"\n",
       "[2] \"B065-P1_PB00173-02#971b0bd6e40811eba89d42010a19c839\"\n",
       "[3] \"B065-P1_PB00173-02#97267fdee40811eba89d42010a19c839\"\n",
       "[4] \"B065-P1_PB00173-02#9728e26ae40811eba89d42010a19c839\"\n",
       "[5] \"B065-P1_PB00173-02#97475100e40811eba89d42010a19c839\"\n",
       "[6] \"B065-P1_PB00173-02#97789738e40811eba89d42010a19c839\""
      ]
     },
     "metadata": {},
     "output_type": "display_data"
    }
   ],
   "source": [
    "archr_style_barcodes <- paste(rna_adt_so$batch_id, \"-P1_\",rna_adt_so$pbmc_sample_id,\"#\",colnames(rna_mtx), sep = \"\")\n",
    "head(archr_style_barcodes)"
   ]
  },
  {
   "cell_type": "code",
   "execution_count": 28,
   "metadata": {},
   "outputs": [
    {
     "data": {
      "text/plain": [
       "\n",
       "  TRUE \n",
       "273866 "
      ]
     },
     "metadata": {},
     "output_type": "display_data"
    }
   ],
   "source": [
    "table(archr_style_barcodes %in% proj$cellNames)\n",
    "rna_adt_so$ATAC_Cell_ID <- archr_style_barcodes"
   ]
  },
  {
   "cell_type": "code",
   "execution_count": 29,
   "metadata": {},
   "outputs": [],
   "source": [
    "colnames(rna_mtx) <- archr_style_barcodes"
   ]
  },
  {
   "cell_type": "code",
   "execution_count": 30,
   "metadata": {},
   "outputs": [
    {
     "data": {
      "text/plain": [
       "GRanges object with 6 ranges and 2 metadata columns:\n",
       "      seqnames        ranges strand |     gene_id       symbol\n",
       "         <Rle>     <IRanges>  <Rle> | <character>  <character>\n",
       "  [1]     chr1   69091-70008      + |       79501        OR4F5\n",
       "  [2]     chr1 139790-140339      - |      729737    LOC729737\n",
       "  [3]     chr1 585990-629010      - |   101928626 LOC101928626\n",
       "  [4]     chr1 632325-632413      - |   102465432         <NA>\n",
       "  [5]     chr1 817371-819837      + |      400728       FAM87B\n",
       "  [6]     chr1 825138-859446      + |      643837    LINC01128\n",
       "  -------\n",
       "  seqinfo: 24 sequences from hg38 genome"
      ]
     },
     "metadata": {},
     "output_type": "display_data"
    }
   ],
   "source": [
    "atac_genes <- getGenes(ArchRProj = proj)\n",
    "head(atac_genes)"
   ]
  },
  {
   "cell_type": "code",
   "execution_count": 31,
   "metadata": {},
   "outputs": [],
   "source": [
    "genes <- getGenes(proj, symbols = rownames(rna_mtx))"
   ]
  },
  {
   "cell_type": "code",
   "execution_count": 32,
   "metadata": {},
   "outputs": [
    {
     "data": {
      "text/plain": [
       "GRanges object with 21406 ranges and 2 metadata columns:\n",
       "          seqnames            ranges strand |     gene_id      symbol\n",
       "             <Rle>         <IRanges>  <Rle> | <character> <character>\n",
       "      [1]     chr1       69091-70008      + |       79501       OR4F5\n",
       "      [2]     chr1     817371-819837      + |      400728      FAM87B\n",
       "      [3]     chr1     825138-859446      + |      643837   LINC01128\n",
       "      [4]     chr1     826206-827522      - |       79854   LINC00115\n",
       "      [5]     chr1     868071-876903      - |      284593      FAM41C\n",
       "      ...      ...               ...    ... .         ...         ...\n",
       "  [21402]     chrY 21583600-21594666      - |       83868      TTTY13\n",
       "  [21403]     chrY 21903618-21918067      - |      378949      RBMY1D\n",
       "  [21404]     chrY 22296798-22298876      - |       83863       TTTY5\n",
       "  [21405]     chrY 23129355-23199094      - |        1617        DAZ1\n",
       "  [21406]     chrY 23219447-23291356      + |       57055        DAZ2\n",
       "  -------\n",
       "  seqinfo: 24 sequences from hg38 genome"
      ]
     },
     "metadata": {},
     "output_type": "display_data"
    }
   ],
   "source": [
    "genes"
   ]
  },
  {
   "cell_type": "code",
   "execution_count": 33,
   "metadata": {},
   "outputs": [
    {
     "data": {
      "text/html": [
       "<style>\n",
       ".list-inline {list-style: none; margin:0; padding: 0}\n",
       ".list-inline>li {display: inline-block}\n",
       ".list-inline>li:not(:last-child)::after {content: \"\\00b7\"; padding: 0 .5ex}\n",
       "</style>\n",
       "<ol class=list-inline><li>FALSE</li><li>FALSE</li><li>TRUE</li><li>FALSE</li><li>FALSE</li><li>FALSE</li></ol>\n"
      ],
      "text/latex": [
       "\\begin{enumerate*}\n",
       "\\item FALSE\n",
       "\\item FALSE\n",
       "\\item TRUE\n",
       "\\item FALSE\n",
       "\\item FALSE\n",
       "\\item FALSE\n",
       "\\end{enumerate*}\n"
      ],
      "text/markdown": [
       "1. FALSE\n",
       "2. FALSE\n",
       "3. TRUE\n",
       "4. FALSE\n",
       "5. FALSE\n",
       "6. FALSE\n",
       "\n",
       "\n"
      ],
      "text/plain": [
       "[1] FALSE FALSE  TRUE FALSE FALSE FALSE"
      ]
     },
     "metadata": {},
     "output_type": "display_data"
    }
   ],
   "source": [
    "idx <- rownames(rna_mtx) %in% atac_genes$symbol\n",
    "head(idx)"
   ]
  },
  {
   "cell_type": "code",
   "execution_count": 34,
   "metadata": {},
   "outputs": [],
   "source": [
    "rna_mtx_subset <- rna_mtx[idx,]"
   ]
  },
  {
   "cell_type": "code",
   "execution_count": 35,
   "metadata": {},
   "outputs": [
    {
     "data": {
      "text/plain": [
       "class: SingleCellExperiment \n",
       "dim: 21406 273866 \n",
       "metadata(0):\n",
       "assays(1): counts\n",
       "rownames(21406): OR4F5 FAM87B ... DAZ1 DAZ2\n",
       "rowData names(2): gene_id symbol\n",
       "colnames(273866): B065-P1_PB00173-02#970c3f98e40811eba89d42010a19c839\n",
       "  B065-P1_PB00173-02#971b0bd6e40811eba89d42010a19c839 ...\n",
       "  B076-P1_PB00599-02#145ac9fce84f11eb915942010a19c839\n",
       "  B076-P1_PB00599-02#148df6b0e84f11eb915942010a19c839\n",
       "colData names(0):\n",
       "reducedDimNames(0):\n",
       "mainExpName: NULL\n",
       "altExpNames(0):"
      ]
     },
     "metadata": {},
     "output_type": "display_data"
    }
   ],
   "source": [
    "sce <- SingleCellExperiment(list(counts = rna_mtx_subset),rowRanges= genes)\n",
    "sce"
   ]
  },
  {
   "cell_type": "code",
   "execution_count": 36,
   "metadata": {},
   "outputs": [
    {
     "name": "stderr",
     "output_type": "stream",
     "text": [
      "ArchR logging to : ArchRLogs/ArchR-addGeneExpressionMatrix-1d0e5c8eee-Date-2022-03-02_Time-20-57-55.log\n",
      "If there is an issue, please report to github with logFile!\n",
      "\n",
      "Overlap w/ scATAC = 1\n",
      "\n",
      "2022-03-02 20:57:59 : \n",
      "\n",
      "Overlap Per Sample w/ scATAC : B065-P1_PB00173-02=10985,B065-P1_PB00192-02=11266,B065-P1_PB00197-02=11004,B065-P1_PB00593-04=9849,B069-P1_PB00172-02=7967,B069-P1_PB00182-02=10950,B069-P1_PB00323-02=12225,B069-P1_PB00807-02=10533,B076-P1_PB00124-02=25227,B076-P1_PB00127-02=26841,B076-P1_PB00334-03=24174,B076-P1_PB00353-03=23315,B076-P1_PB00368-04=21978,B076-P1_PB00377-03=25223,B076-P1_PB00545-02=20380,B076-P1_PB00599-02=21949\n",
      "\n",
      "2022-03-02 20:58:00 : \n",
      "\n",
      "2022-03-02 20:58:46 : Batch Execution w/ safelapply!, 0 mins elapsed.\n",
      "\n",
      "ArchR logging successful to : ArchRLogs/ArchR-addGeneExpressionMatrix-1d0e5c8eee-Date-2022-03-02_Time-20-57-55.log\n",
      "\n"
     ]
    }
   ],
   "source": [
    "proj_subset <- addGeneExpressionMatrix(input = proj_subset, seRNA = sce)"
   ]
  },
  {
   "cell_type": "markdown",
   "metadata": {},
   "source": [
    "# Save ArchR Project"
   ]
  },
  {
   "cell_type": "code",
   "execution_count": 37,
   "metadata": {},
   "outputs": [
    {
     "name": "stderr",
     "output_type": "stream",
     "text": [
      "Saving ArchRProject...\n",
      "\n"
     ]
    }
   ],
   "source": [
    "saveArchRProject(ArchRProj = proj_subset, outputDirectory = '/home/jupyter/UPenn_Demo/PedSen_ATAC/', load = F)"
   ]
  },
  {
   "cell_type": "code",
   "execution_count": 38,
   "metadata": {},
   "outputs": [
    {
     "data": {
      "text/html": [
       "<style>\n",
       ".list-inline {list-style: none; margin:0; padding: 0}\n",
       ".list-inline>li {display: inline-block}\n",
       ".list-inline>li:not(:last-child)::after {content: \"\\00b7\"; padding: 0 .5ex}\n",
       "</style>\n",
       "<ol class=list-inline><li>'GeneExpressionMatrix'</li><li>'GeneScoreMatrix'</li><li>'TileMatrix'</li></ol>\n"
      ],
      "text/latex": [
       "\\begin{enumerate*}\n",
       "\\item 'GeneExpressionMatrix'\n",
       "\\item 'GeneScoreMatrix'\n",
       "\\item 'TileMatrix'\n",
       "\\end{enumerate*}\n"
      ],
      "text/markdown": [
       "1. 'GeneExpressionMatrix'\n",
       "2. 'GeneScoreMatrix'\n",
       "3. 'TileMatrix'\n",
       "\n",
       "\n"
      ],
      "text/plain": [
       "[1] \"GeneExpressionMatrix\" \"GeneScoreMatrix\"      \"TileMatrix\"          "
      ]
     },
     "metadata": {},
     "output_type": "display_data"
    }
   ],
   "source": [
    "getAvailableMatrices(proj_subset)"
   ]
  },
  {
   "cell_type": "code",
   "execution_count": 39,
   "metadata": {},
   "outputs": [
    {
     "data": {
      "text/plain": [
       "R version 4.1.2 (2021-11-01)\n",
       "Platform: x86_64-pc-linux-gnu (64-bit)\n",
       "Running under: Ubuntu 20.04.3 LTS\n",
       "\n",
       "Matrix products: default\n",
       "BLAS:   /usr/lib/x86_64-linux-gnu/openblas-pthread/libblas.so.3\n",
       "LAPACK: /usr/lib/x86_64-linux-gnu/openblas-pthread/liblapack.so.3\n",
       "\n",
       "locale:\n",
       " [1] LC_CTYPE=C.UTF-8       LC_NUMERIC=C           LC_TIME=C.UTF-8       \n",
       " [4] LC_COLLATE=C.UTF-8     LC_MONETARY=C.UTF-8    LC_MESSAGES=C.UTF-8   \n",
       " [7] LC_PAPER=C.UTF-8       LC_NAME=C              LC_ADDRESS=C          \n",
       "[10] LC_TELEPHONE=C         LC_MEASUREMENT=C.UTF-8 LC_IDENTIFICATION=C   \n",
       "\n",
       "attached base packages:\n",
       "[1] parallel  stats4    stats     graphics  grDevices utils     datasets \n",
       "[8] methods   base     \n",
       "\n",
       "other attached packages:\n",
       " [1] SingleCellExperiment_1.14.1       BSgenome.Hsapiens.UCSC.hg38_1.4.3\n",
       " [3] BSgenome_1.60.0                   rtracklayer_1.52.1               \n",
       " [5] Biostrings_2.60.2                 XVector_0.32.0                   \n",
       " [7] stringr_1.4.0                     Nebulosa_1.2.0                   \n",
       " [9] patchwork_1.1.1                   harmony_0.1.0                    \n",
       "[11] Rcpp_1.0.7                        viridis_0.6.2                    \n",
       "[13] viridisLite_0.4.0                 dplyr_1.0.7                      \n",
       "[15] H5weaver_1.2.0                    SeuratObject_4.0.4               \n",
       "[17] Seurat_4.0.6                      hise_2.14.0                      \n",
       "[19] ArchR_1.0.2                       magrittr_2.0.1                   \n",
       "[21] rhdf5_2.36.0                      Matrix_1.4-0                     \n",
       "[23] data.table_1.14.2                 SummarizedExperiment_1.22.0      \n",
       "[25] Biobase_2.52.0                    GenomicRanges_1.44.0             \n",
       "[27] GenomeInfoDb_1.28.4               IRanges_2.26.0                   \n",
       "[29] S4Vectors_0.30.2                  BiocGenerics_0.38.0              \n",
       "[31] MatrixGenerics_1.4.3              matrixStats_0.61.0               \n",
       "[33] ggplot2_3.3.5                    \n",
       "\n",
       "loaded via a namespace (and not attached):\n",
       "  [1] uuid_1.0-3               plyr_1.8.6               igraph_1.2.11           \n",
       "  [4] repr_1.1.4               lazyeval_0.2.2           splines_4.1.2           \n",
       "  [7] BiocParallel_1.26.2      listenv_0.8.0            scattermore_0.7         \n",
       " [10] digest_0.6.29            htmltools_0.5.2          fansi_1.0.0             \n",
       " [13] tensor_1.5               cluster_2.1.2            ks_1.13.3               \n",
       " [16] ROCR_1.0-11              globals_0.14.0           spatstat.sparse_2.1-0   \n",
       " [19] colorspace_2.0-2         ggrepel_0.9.1            crayon_1.4.2            \n",
       " [22] RCurl_1.98-1.5           jsonlite_1.7.2           spatstat.data_2.1-2     \n",
       " [25] survival_3.2-13          zoo_1.8-9                glue_1.6.0              \n",
       " [28] polyclip_1.10-0          gtable_0.3.0             zlibbioc_1.38.0         \n",
       " [31] leiden_0.3.9             DelayedArray_0.18.0      Rhdf5lib_1.14.2         \n",
       " [34] future.apply_1.8.1       abind_1.4-5              scales_1.1.1            \n",
       " [37] mvtnorm_1.1-3            DBI_1.1.2                miniUI_0.1.1.1          \n",
       " [40] xtable_1.8-4             reticulate_1.22          spatstat.core_2.3-2     \n",
       " [43] mclust_5.4.9             htmlwidgets_1.5.4        httr_1.4.2              \n",
       " [46] RColorBrewer_1.1-2       ellipsis_0.3.2           ica_1.0-2               \n",
       " [49] XML_3.99-0.8             pkgconfig_2.0.3          uwot_0.1.11             \n",
       " [52] deldir_1.0-6             utf8_1.2.2               tidyselect_1.1.1        \n",
       " [55] rlang_0.4.12             reshape2_1.4.4           later_1.3.0             \n",
       " [58] munsell_0.5.0            tools_4.1.2              generics_0.1.1          \n",
       " [61] ggridges_0.5.3           evaluate_0.14            fastmap_1.1.0           \n",
       " [64] yaml_2.2.1               goftest_1.2-3            fitdistrplus_1.1-6      \n",
       " [67] purrr_0.3.4              RANN_2.6.1               pbapply_1.5-0           \n",
       " [70] future_1.23.0            nlme_3.1-153             mime_0.12               \n",
       " [73] pracma_2.3.6             compiler_4.1.2           plotly_4.10.0           \n",
       " [76] png_0.1-7                spatstat.utils_2.3-0     tibble_3.1.6            \n",
       " [79] stringi_1.7.6            lattice_0.20-45          IRdisplay_1.1           \n",
       " [82] vctrs_0.3.8              pillar_1.6.4             lifecycle_1.0.1         \n",
       " [85] rhdf5filters_1.4.0       spatstat.geom_2.3-1      lmtest_0.9-39           \n",
       " [88] RcppAnnoy_0.0.19         cowplot_1.1.1            bitops_1.0-7            \n",
       " [91] irlba_2.3.5              httpuv_1.6.5             BiocIO_1.2.0            \n",
       " [94] R6_2.5.1                 promises_1.2.0.1         KernSmooth_2.23-20      \n",
       " [97] gridExtra_2.3            parallelly_1.30.0        codetools_0.2-18        \n",
       "[100] MASS_7.3-54              assertthat_0.2.1         rjson_0.2.21            \n",
       "[103] withr_2.4.3              GenomicAlignments_1.28.0 sctransform_0.3.2       \n",
       "[106] Rsamtools_2.8.0          GenomeInfoDbData_1.2.6   mgcv_1.8-38             \n",
       "[109] grid_4.1.2               rpart_4.1-15             IRkernel_1.3            \n",
       "[112] tidyr_1.1.4              Rtsne_0.15               pbdZMQ_0.3-6            \n",
       "[115] shiny_1.7.1              base64enc_0.1-3          restfulr_0.0.13         "
      ]
     },
     "metadata": {},
     "output_type": "display_data"
    }
   ],
   "source": [
    "sessionInfo()"
   ]
  }
 ],
 "metadata": {
  "kernelspec": {
   "display_name": "R 4",
   "language": "R",
   "name": "ir"
  },
  "language_info": {
   "codemirror_mode": "r",
   "file_extension": ".r",
   "mimetype": "text/x-r-source",
   "name": "R",
   "pygments_lexer": "r",
   "version": "4.1.2"
  },
  "toc-autonumbering": true
 },
 "nbformat": 4,
 "nbformat_minor": 4
}
